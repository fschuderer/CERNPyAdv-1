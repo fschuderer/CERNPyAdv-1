{
 "cells": [
  {
   "cell_type": "markdown",
   "id": "e308d1cc",
   "metadata": {},
   "source": [
    "# Data Classes\n",
    "\n",
    "One new and exciting feature coming in Python 3.7 is the **data class** concept. \n",
    "\n",
    "A data class is a class typically containing mainly (but not only) data. \n",
    "\n",
    "## A first example\n",
    "\n",
    "A data class is created using the new **`@dataclass`** decorator, as follows:\n"
   ]
  },
  {
   "cell_type": "code",
   "execution_count": 1,
   "id": "ab49aac9",
   "metadata": {},
   "outputs": [],
   "source": [
    "from dataclasses import dataclass\n",
    "\n",
    "@dataclass\n",
    "class Point:\n",
    "    x: int\n",
    "    y: int\n"
   ]
  },
  {
   "cell_type": "markdown",
   "id": "8d500c91",
   "metadata": {},
   "source": [
    "What makes the class `Point` a data class is the **`@dataclass`** decorator just above the class definition. \n",
    "\n",
    "Beneath the **`class Point:`** line, you simply list the fields you want in your data class. \n",
    "\n",
    "A **data class** is a regular Python class. The only thing that sets it apart is that the special methods `__init__()`, `__repr__()`, and `__eq__()` are implemented for you.\n",
    "\n",
    "The `: type` notation used for the fields is using a new feature in Python 3.6 called **variable annotations**. \n",
    "\n",
    "It is important to note that type annotations do not affect the program's runtime in any way. These hints are ignored by the interpreter and are solely used to increase the readability for other programmers and yourself.\n",
    "\n",
    "The module **`typing`** provides several type annotations.\n",
    "\n",
    "Even if type are not enforced at runtime, adding some kind of type hint is **mandatory** when defining the fields in your data class. Without a type hint, the field will not be a part of the data class. \n",
    "\n",
    "However, if you do not want to add explicit types to your data class, use **`typing.Any`**.\n",
    "\n",
    "## Data classes are classes\n",
    "\n",
    "A data class comes with basic functionality already implemented. \n",
    "\n",
    "For instance, you can instantiate, print, and compare data class instances straight out of the box:"
   ]
  },
  {
   "cell_type": "code",
   "execution_count": 2,
   "id": "c22dc775",
   "metadata": {},
   "outputs": [
    {
     "name": "stdout",
     "output_type": "stream",
     "text": [
      "Point(x=3, y=5)\n"
     ]
    },
    {
     "data": {
      "text/plain": [
       "True"
      ]
     },
     "execution_count": 2,
     "metadata": {},
     "output_type": "execute_result"
    }
   ],
   "source": [
    "p1=Point(2,5)  # __init__ used here\n",
    "p1.x+=1\n",
    "print(p1)      # __repr__ used here\n",
    "p2=Point(3,5)\n",
    "p1==p2         # __eq__ used here"
   ]
  },
  {
   "cell_type": "markdown",
   "id": "7130283c",
   "metadata": {},
   "source": [
    "In the above example, the code that is auto-generated thanks to the `@dataclass` decorator is equivalent to this one:"
   ]
  },
  {
   "cell_type": "code",
   "execution_count": 24,
   "id": "1eb635b3",
   "metadata": {},
   "outputs": [],
   "source": [
    "class Point:\n",
    "    def __init__(self, x, y):\n",
    "        self.x = x\n",
    "        self.y = y\n",
    "\n",
    "    def __repr__(self):\n",
    "        return (f'{self.__class__.__name__}'\n",
    "                f'(x={self.x!r}, y={self.y!r})')\n",
    "\n",
    "    def __eq__(self, other):\n",
    "        if other.__class__ is not self.__class__:\n",
    "            return NotImplemented\n",
    "        return (self.x, self.y) == (other.x, other.y)\n"
   ]
  },
  {
   "cell_type": "code",
   "execution_count": 12,
   "id": "ff22d000",
   "metadata": {},
   "outputs": [
    {
     "name": "stdout",
     "output_type": "stream",
     "text": [
      "Point(x=3, y=5)\n"
     ]
    },
    {
     "data": {
      "text/plain": [
       "True"
      ]
     },
     "execution_count": 12,
     "metadata": {},
     "output_type": "execute_result"
    }
   ],
   "source": [
    "p1=Point(2,5)\n",
    "p1.x+=1\n",
    "print(p1)\n",
    "p2=Point(3,5)\n",
    "p1==p2"
   ]
  },
  {
   "cell_type": "markdown",
   "id": "33510d3c",
   "metadata": {},
   "source": [
    "## Alternatives to Data Classes\n",
    "\n",
    "For simple data structures, you can use a **tuple**, a **named tuple** or a **dict** as an alternative to simple data classes:\n",
    "\n",
    "**Note**: tuples and Named tuples are ***immutable***"
   ]
  },
  {
   "cell_type": "code",
   "execution_count": 20,
   "id": "b4ffa268",
   "metadata": {},
   "outputs": [
    {
     "name": "stdout",
     "output_type": "stream",
     "text": [
      "2.5\n",
      "Point(x=1.0, y=5.0)\n",
      "Point(x=2.5, y=1.5)\n"
     ]
    }
   ],
   "source": [
    "p1_tuple = (2,2)\n",
    "p1_dict = {'x': 2, 'y': 2}\n",
    "\n",
    "from collections import namedtuple\n",
    "Point = namedtuple('Point', 'x y')\n",
    "pt1 = Point(1.0, 5.0)\n",
    "pt2 = Point(2.5, 1.5)\n",
    "print(pt2.x)\n",
    "#pt2.x += 1 # forbidden !\n",
    "print(pt1)\n",
    "print(pt2)\n",
    "\n",
    "from math import sqrt\n",
    "line_length = sqrt((pt1.x-pt2.x)**2 + (pt1.y-pt2.y)**2)"
   ]
  },
  {
   "cell_type": "markdown",
   "id": "27a97d83",
   "metadata": {},
   "source": [
    "## Another way to create a data class\n",
    "\n",
    "You can also create data classes similarly to how named tuples are created using the **`make_dataclass`** function.\n",
    "\n",
    "The following is (almost) equivalent to the definition of the data class `Point`defined above:"
   ]
  },
  {
   "cell_type": "code",
   "execution_count": 22,
   "id": "ba7483ab",
   "metadata": {},
   "outputs": [
    {
     "name": "stdout",
     "output_type": "stream",
     "text": [
      "Point(x=3, y=5)\n"
     ]
    },
    {
     "data": {
      "text/plain": [
       "True"
      ]
     },
     "execution_count": 22,
     "metadata": {},
     "output_type": "execute_result"
    }
   ],
   "source": [
    "from dataclasses import make_dataclass\n",
    "\n",
    "Point = make_dataclass('Point', ['x', 'y'])\n",
    "p1=Point(2,5)\n",
    "p1.x+=1\n",
    "print(p1)\n",
    "p2=Point(3,5)\n",
    "p1==p2"
   ]
  },
  {
   "cell_type": "markdown",
   "id": "1bf149c7",
   "metadata": {},
   "source": [
    "## Default Values\n",
    "\n",
    "It is possible to add default values to the fields of your data class.\n",
    "\n",
    "This works exactly as if you had specified the default values in the definition of the `__init__()` method of a regular class."
   ]
  },
  {
   "cell_type": "code",
   "execution_count": 1,
   "id": "46458313",
   "metadata": {},
   "outputs": [
    {
     "data": {
      "text/plain": [
       "Point(x=0, y=0)"
      ]
     },
     "execution_count": 1,
     "metadata": {},
     "output_type": "execute_result"
    }
   ],
   "source": [
    "from dataclasses import dataclass\n",
    "\n",
    "@dataclass\n",
    "class Point:\n",
    "    x: int = 0\n",
    "    y: int = 0\n",
    "        \n",
    "p1=Point()\n",
    "p1"
   ]
  },
  {
   "cell_type": "markdown",
   "id": "446d4fdc",
   "metadata": {},
   "source": [
    "## Adding Methods\n",
    "\n",
    "A data class being a regular class, you can freely add your own methods to a data class. "
   ]
  },
  {
   "cell_type": "code",
   "execution_count": 2,
   "id": "9048dcd4",
   "metadata": {},
   "outputs": [
    {
     "data": {
      "text/plain": [
       "Point(x=0, y=0)"
      ]
     },
     "execution_count": 2,
     "metadata": {},
     "output_type": "execute_result"
    }
   ],
   "source": [
    "from dataclasses import dataclass\n",
    "\n",
    "@dataclass\n",
    "class Point:\n",
    "    x: int = 0\n",
    "    y: int = 0\n",
    "    def reset(self):\n",
    "        self.x=self.y=0\n",
    "p1=Point(2,3)\n",
    "p1.reset()\n",
    "p1"
   ]
  },
  {
   "cell_type": "markdown",
   "id": "69f392a1",
   "metadata": {},
   "source": [
    "## Advanced Default Values\n",
    "\n",
    "The **`field()`** specifier is used to customize each field of a data class individually. \n",
    "\n",
    "These are the parameters `field()` supports:\n",
    "\n",
    "- **`default`**: Default value of the field\n",
    "\n",
    "    `x: int = field(default=0) <=> x: int = 0`\n",
    "    \n",
    "    \n",
    "- **`default_factory`**: Function that returns the initial value of the field\n",
    "- **`init`**: Use field in \\_\\_init_\\_() method? (Default is True.)\n",
    "- **`repr`**: Use field in repr of the object? (Default is True.)\n",
    "- **`compare`**: Include the field in comparisons? (Default is True.)\n",
    "- **`hash`**: Include the field when calculating hash()? (Default is to use the same as for compare.)\n",
    "- **`metadata`**: A mapping with information about the field\n",
    "\n",
    "The `metadata` parameter is not used by the data classes themselves but is available to attach information to fields.  "
   ]
  },
  {
   "cell_type": "code",
   "execution_count": 3,
   "id": "852cdf35",
   "metadata": {},
   "outputs": [
    {
     "name": "stdout",
     "output_type": "stream",
     "text": [
      "Square(corners=[Point(x=0, y=0), Point(x=0, y=0), Point(x=0, y=0), Point(x=0, y=0)])\n",
      "Square(corners=[Point(x=0, y=0), Point(x=0, y=0), Point(x=0, y=0), Point(x=0, y=0)])\n"
     ]
    }
   ],
   "source": [
    "from dataclasses import dataclass, field\n",
    "from typing import List\n",
    "\n",
    "def fourPoint():\n",
    "    return [Point(0,0) for e in range(4)]\n",
    "\n",
    "@dataclass\n",
    "class Square:\n",
    "    corners: List[Point]= field(default_factory=fourPoint, \n",
    "                                metadata=\"the fours cornes of the square\")\n",
    "    \n",
    "p1=Square()\n",
    "print(p1)\n",
    "p2=Square()\n",
    "print(p2)"
   ]
  },
  {
   "cell_type": "markdown",
   "id": "6af1ec71",
   "metadata": {},
   "source": [
    "The metadata (and other information about a field) can be retrieved using the **`fields()`** function"
   ]
  },
  {
   "cell_type": "code",
   "execution_count": 17,
   "id": "41865cbb",
   "metadata": {},
   "outputs": [
    {
     "data": {
      "text/plain": [
       "(Field(name='corners',type=typing.List[__main__.Point],default=<dataclasses._MISSING_TYPE object at 0x00000130048C3EB0>,default_factory=<function fourPoint at 0x000001300499F1F0>,init=True,repr=True,hash=None,compare=True,metadata=mappingproxy('the fours cornes of the square'),_field_type=_FIELD),)"
      ]
     },
     "execution_count": 17,
     "metadata": {},
     "output_type": "execute_result"
    }
   ],
   "source": [
    "from dataclasses import fields\n",
    "fields(Square)"
   ]
  },
  {
   "cell_type": "markdown",
   "id": "e554ae62",
   "metadata": {},
   "source": [
    "## @dataclass parameters\n",
    "\n",
    "You can give parameters to the **`@dataclass`** decorator. \n",
    "\n",
    "The following parameters are supported:\n",
    "\n",
    "- **`init`**: Add `__init__()` method? (Default is `True`.)\n",
    "- **`repr`**: Add `__repr__()` method? (Default is `True`.)\n",
    "- **`eq`**: Add `__eq__()` method? (Default is `True`.)\n",
    "- **`order`**: Add ordering methods? (Default is `False`.)\n",
    "- **`unsafe_hash`**: Force the addition of a \\_\\_hash_\\_() method? (Default is `False`.)\n",
    "- **`frozen`**: If `True`, assigning to fields raise an exception. (Default is `False`.) This is a way to make a data class immutable."
   ]
  },
  {
   "cell_type": "code",
   "execution_count": 18,
   "id": "e45a2528",
   "metadata": {},
   "outputs": [
    {
     "data": {
      "text/plain": [
       "True"
      ]
     },
     "execution_count": 18,
     "metadata": {},
     "output_type": "execute_result"
    }
   ],
   "source": [
    "from dataclasses import dataclass, field\n",
    "\n",
    "@dataclass(order=True)\n",
    "class Point:\n",
    "    x: int = 0\n",
    "    y: int = 0\n",
    "    def reset(self):\n",
    "        self.x=self.y=0\n",
    "p1=Point(2,6)\n",
    "p2=Point(5,0)\n",
    "p1<p2"
   ]
  },
  {
   "cell_type": "markdown",
   "id": "5ec69e4a",
   "metadata": {},
   "source": [
    "How are the two points compared though? \n",
    "\n",
    "Data classes compare objects as if they were tuples of their fields.\n",
    "\n",
    "That does not really work for us. Instead, we need to define some kind of sort index that uses the addition of x and y.\n",
    "\n",
    "For `Point` to use this sort index for comparisons, we need to add a field `sort_index` to the class. However, this field should be calculated from the other fields `x` and `y` automatically. \n",
    "\n",
    "This is exactly what the special method **`__post_init__()`** is for. It allows for special processing after the regular `__init__()` method is called:"
   ]
  },
  {
   "cell_type": "code",
   "execution_count": 21,
   "id": "cb9fb408",
   "metadata": {},
   "outputs": [
    {
     "data": {
      "text/plain": [
       "True"
      ]
     },
     "execution_count": 21,
     "metadata": {},
     "output_type": "execute_result"
    }
   ],
   "source": [
    "from dataclasses import dataclass, field\n",
    "\n",
    "@dataclass(order=True)\n",
    "class Point:\n",
    "    sort_index: int = field(init=False, repr=False)\n",
    "    x: int = 0\n",
    "    y: int = 0\n",
    "    def reset(self):\n",
    "        self.x=self.y=0\n",
    "        self.sort_index = 0\n",
    "    def __post_init__(self):\n",
    "        self.sort_index = self.x + self.y\n",
    "\n",
    "p1=Point(2,6)\n",
    "p2=Point(6,2)\n",
    "p1<p2"
   ]
  },
  {
   "cell_type": "markdown",
   "id": "ed8649c0",
   "metadata": {},
   "source": [
    "Note that `sort_index` is added as the first field of the class. That way, the comparison is first done using `sort_index` and only if there are ties are the other fields used. \n",
    "\n",
    "Using `field()`, you must also specify that `sort_index` should not be included as a parameter in the `__init__()` method (because it is calculated from the `x` and `y` fields). \n",
    "\n",
    "To avoid confusing the user about this implementation detail, it is probably also a good idea to remove `sort_index` from the repr of the class."
   ]
  },
  {
   "cell_type": "markdown",
   "id": "a76097b8",
   "metadata": {},
   "source": [
    "## Inheritance\n",
    "\n",
    "A data class can inherit from another data class."
   ]
  },
  {
   "cell_type": "code",
   "execution_count": 27,
   "id": "5cd487a4",
   "metadata": {},
   "outputs": [
    {
     "name": "stdout",
     "output_type": "stream",
     "text": [
      "PointColor(x=2, y=3, color='green')\n"
     ]
    },
    {
     "data": {
      "text/plain": [
       "PointColor(x=0, y=0, color='green')"
      ]
     },
     "execution_count": 27,
     "metadata": {},
     "output_type": "execute_result"
    }
   ],
   "source": [
    "from dataclasses import dataclass, field\n",
    "\n",
    "@dataclass\n",
    "class Point:\n",
    "    x: int = 0\n",
    "    y: int = 0\n",
    "    def reset(self):\n",
    "        self.x=self.y=0\n",
    "        \n",
    "@dataclass\n",
    "class PointColor(Point):\n",
    "    color: str=\"red\"\n",
    "\n",
    "        \n",
    "p1=PointColor(2,3, \"green\")\n",
    "print(p1)\n",
    "p1.reset()\n",
    "p1"
   ]
  },
  {
   "cell_type": "code",
   "execution_count": null,
   "id": "264fb66a",
   "metadata": {},
   "outputs": [],
   "source": []
  }
 ],
 "metadata": {
  "kernelspec": {
   "display_name": "Python 3",
   "language": "python",
   "name": "python3"
  },
  "language_info": {
   "codemirror_mode": {
    "name": "ipython",
    "version": 3
   },
   "file_extension": ".py",
   "mimetype": "text/x-python",
   "name": "python",
   "nbconvert_exporter": "python",
   "pygments_lexer": "ipython3",
   "version": "3.8.8"
  }
 },
 "nbformat": 4,
 "nbformat_minor": 5
}
