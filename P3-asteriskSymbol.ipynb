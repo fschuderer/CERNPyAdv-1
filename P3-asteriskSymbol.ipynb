{
 "cells": [
  {
   "cell_type": "markdown",
   "id": "outer-zambia",
   "metadata": {},
   "source": [
    "## Use of * and ** in function definition\n",
    "\n",
    "The ***args** and ****kwargs** is a common idiom to allow arbitrary number of arguments to functions.\n",
    "\n",
    "The ***args** notation will give you access to all \"**positional arguments**\" (except for those corresponding to a \"fixed argument\") as a `tuple`.\n",
    "\n",
    "The ****kwargs** notation will give you access to all \"**named arguments**\" (or \"**keyword arguments**\") (except for those corresponding to a \"fixed argument\") as a `dict`.\n",
    "\n",
    "**Note**: You can have keyword only arguments after the ***args**"
   ]
  },
  {
   "cell_type": "code",
   "execution_count": 2,
   "id": "small-attempt",
   "metadata": {},
   "outputs": [
    {
     "name": "stdout",
     "output_type": "stream",
     "text": [
      "2\n",
      "3\n",
      "--------------------------------------------------------------------------------\n",
      "name Marcus\n",
      "age 29\n"
     ]
    }
   ],
   "source": [
    "def foo(a, *args): # 1 fixed argument + a variable number of positional arguments\n",
    "    for a in args:\n",
    "        print(a)        \n",
    "\n",
    "foo(1,2,3)\n",
    "\n",
    "print(\"-\"*80)\n",
    "def bar(first, **kwargs): # 1 fixed argument + a variable number of named arguments\n",
    "    for a in kwargs:\n",
    "        print(a, kwargs[a])  \n",
    "\n",
    "bar(first=12, name='Marcus', age=29)"
   ]
  },
  {
   "cell_type": "markdown",
   "id": "sunset-sport",
   "metadata": {},
   "source": [
    "Both idioms can be mixed with normal arguments to allow a set of fixed and some variable arguments:\n"
   ]
  },
  {
   "cell_type": "code",
   "execution_count": 5,
   "id": "worse-agriculture",
   "metadata": {},
   "outputs": [
    {
     "name": "stdout",
     "output_type": "stream",
     "text": [
      "23\n",
      "(56, 78, 89)\n",
      "{'color': 'green', 'size': 12}\n"
     ]
    }
   ],
   "source": [
    "def foo(first, *args, **kwargs):\n",
    "    print(first)\n",
    "    print(args)\n",
    "    print(kwargs)\n",
    "\n",
    "foo(23,56,78,89, color=\"green\", size=12)"
   ]
  },
  {
   "cell_type": "markdown",
   "id": "growing-ordinary",
   "metadata": {},
   "source": [
    "### Use of * and ** in function call\n",
    "\n",
    "Another usage of the ***sequence** idiom is to unpack argument lists when calling a function."
   ]
  },
  {
   "cell_type": "code",
   "execution_count": 2,
   "id": "supposed-detector",
   "metadata": {},
   "outputs": [
    {
     "name": "stdout",
     "output_type": "stream",
     "text": [
      "314\n"
     ]
    }
   ],
   "source": [
    "def sum(*values):\n",
    "    total=0\n",
    "    for e in values:\n",
    "        total += e\n",
    "    return total\n",
    "\n",
    "data=[23,45,67,89,90]\n",
    "\n",
    "print(sum(*data)) # <=> print(sum(23,45,67,89,90))\n"
   ]
  },
  {
   "cell_type": "code",
   "execution_count": 4,
   "id": "wired-hometown",
   "metadata": {},
   "outputs": [
    {
     "name": "stdout",
     "output_type": "stream",
     "text": [
      "('h', 'e', 'l', 'l', 'o')\n"
     ]
    }
   ],
   "source": [
    "def f(*par):\n",
    "    print(par)\n",
    "    \n",
    "f(*\"hello\")"
   ]
  },
  {
   "cell_type": "markdown",
   "id": "interpreted-appendix",
   "metadata": {},
   "source": [
    "Another usage of the ****dict** idiom is to unpack a dict of named arguments when calling a function."
   ]
  },
  {
   "cell_type": "code",
   "execution_count": 9,
   "id": "previous-attachment",
   "metadata": {},
   "outputs": [
    {
     "name": "stdout",
     "output_type": "stream",
     "text": [
      "23-34-56 23-34-56 89-100 "
     ]
    }
   ],
   "source": [
    "d={\"end\":\" \", \"sep\":\"-\"}\n",
    "\n",
    "print(23,34,56, **d) # <=> print(23,34,56,end=\" \", sep=\"-\")\n",
    "print(89,100, **d)"
   ]
  },
  {
   "cell_type": "markdown",
   "id": "executed-found",
   "metadata": {},
   "source": [
    "### Use of * with unpacking\n",
    "\n",
    "It is also possible to use  ***sequence** on the left side of an unpacking mechanism.\n",
    "***sequence**, in this case, represents a \"catch-all\" name which will be assigned a list of all items not assigned to a \"regular\" name"
   ]
  },
  {
   "cell_type": "code",
   "execution_count": 10,
   "id": "bearing-tribe",
   "metadata": {},
   "outputs": [
    {
     "name": "stdout",
     "output_type": "stream",
     "text": [
      "1\n",
      "4\n",
      "[2, 3]\n"
     ]
    }
   ],
   "source": [
    "first, *other, last = [1,2,3,4]\n",
    "print(first)\n",
    "print(last)\n",
    "print(other)\n"
   ]
  },
  {
   "cell_type": "markdown",
   "id": "embedded-spencer",
   "metadata": {},
   "source": [
    "### Another use of * and / in function definition\n",
    "\n",
    "The character __*__ alone has another special meaning:\n"
   ]
  },
  {
   "cell_type": "code",
   "execution_count": 1,
   "id": "equipped-infrastructure",
   "metadata": {},
   "outputs": [],
   "source": [
    "def func(arg1, arg2, arg3, *, kwarg1, kwarg2):\n",
    "    pass"
   ]
  },
  {
   "cell_type": "markdown",
   "id": "separate-concrete",
   "metadata": {},
   "source": [
    "Such function accepts, at most, 3 positional arguments, and everything after * can only be passed as keyword arguments."
   ]
  },
  {
   "cell_type": "code",
   "execution_count": 2,
   "id": "controversial-acrylic",
   "metadata": {},
   "outputs": [
    {
     "ename": "TypeError",
     "evalue": "func() takes 3 positional arguments but 4 positional arguments (and 1 keyword-only argument) were given",
     "output_type": "error",
     "traceback": [
      "\u001b[1;31m---------------------------------------------------------------------------\u001b[0m",
      "\u001b[1;31mTypeError\u001b[0m                                 Traceback (most recent call last)",
      "\u001b[1;32m<ipython-input-2-d6b049f01ac1>\u001b[0m in \u001b[0;36m<module>\u001b[1;34m\u001b[0m\n\u001b[0;32m      1\u001b[0m \u001b[0mfunc\u001b[0m\u001b[1;33m(\u001b[0m\u001b[1;36m2\u001b[0m\u001b[1;33m,\u001b[0m\u001b[1;36m3\u001b[0m\u001b[1;33m,\u001b[0m\u001b[0marg3\u001b[0m\u001b[1;33m=\u001b[0m\u001b[1;36m4\u001b[0m\u001b[1;33m,\u001b[0m\u001b[0mkwarg1\u001b[0m\u001b[1;33m=\u001b[0m\u001b[1;36m5\u001b[0m\u001b[1;33m,\u001b[0m\u001b[0mkwarg2\u001b[0m\u001b[1;33m=\u001b[0m\u001b[1;36m6\u001b[0m\u001b[1;33m)\u001b[0m \u001b[1;31m#OK\u001b[0m\u001b[1;33m\u001b[0m\u001b[1;33m\u001b[0m\u001b[0m\n\u001b[1;32m----> 2\u001b[1;33m \u001b[0mfunc\u001b[0m\u001b[1;33m(\u001b[0m\u001b[1;36m2\u001b[0m\u001b[1;33m,\u001b[0m\u001b[1;36m3\u001b[0m\u001b[1;33m,\u001b[0m\u001b[1;36m4\u001b[0m\u001b[1;33m,\u001b[0m\u001b[1;36m5\u001b[0m\u001b[1;33m,\u001b[0m\u001b[0mkwarg2\u001b[0m\u001b[1;33m=\u001b[0m\u001b[1;36m6\u001b[0m\u001b[1;33m)\u001b[0m\u001b[1;31m#KO\u001b[0m\u001b[1;33m\u001b[0m\u001b[1;33m\u001b[0m\u001b[0m\n\u001b[0m",
      "\u001b[1;31mTypeError\u001b[0m: func() takes 3 positional arguments but 4 positional arguments (and 1 keyword-only argument) were given"
     ]
    }
   ],
   "source": [
    "func(2,3,arg3=4,kwarg1=5,kwarg2=6) #OK\n",
    "func(2,3,4,5,kwarg2=6)#KO"
   ]
  },
  {
   "cell_type": "markdown",
   "id": "unexpected-grenada",
   "metadata": {},
   "source": [
    "From python 3.8 onward, one can use **/** in function definition to enforce positional only parameters.\n",
    "\n",
    "In the following example, parameters **a** and **b** are positional-only, while **c** or **d** can be positional or keyword, and **e** or **f** are required to be keywords:"
   ]
  },
  {
   "cell_type": "code",
   "execution_count": 4,
   "id": "coordinated-attribute",
   "metadata": {},
   "outputs": [],
   "source": [
    "def f(a, b, /, c, d, *, e, f):\n",
    "    pass"
   ]
  },
  {
   "cell_type": "code",
   "execution_count": 10,
   "id": "34c9a71e",
   "metadata": {},
   "outputs": [
    {
     "ename": "TypeError",
     "evalue": "f() got some positional-only arguments passed as keyword arguments: 'b'",
     "output_type": "error",
     "traceback": [
      "\u001b[1;31m---------------------------------------------------------------------------\u001b[0m",
      "\u001b[1;31mTypeError\u001b[0m                                 Traceback (most recent call last)",
      "\u001b[1;32m<ipython-input-10-eb4550445e03>\u001b[0m in \u001b[0;36m<module>\u001b[1;34m\u001b[0m\n\u001b[0;32m      1\u001b[0m \u001b[0mf\u001b[0m\u001b[1;33m(\u001b[0m\u001b[1;36m2\u001b[0m\u001b[1;33m,\u001b[0m\u001b[1;36m4\u001b[0m\u001b[1;33m,\u001b[0m\u001b[0md\u001b[0m\u001b[1;33m=\u001b[0m\u001b[1;36m5\u001b[0m\u001b[1;33m,\u001b[0m\u001b[0mc\u001b[0m\u001b[1;33m=\u001b[0m\u001b[1;36m5\u001b[0m\u001b[1;33m,\u001b[0m\u001b[0me\u001b[0m\u001b[1;33m=\u001b[0m\u001b[1;36m2\u001b[0m\u001b[1;33m,\u001b[0m\u001b[0mf\u001b[0m\u001b[1;33m=\u001b[0m\u001b[1;36m6\u001b[0m\u001b[1;33m)\u001b[0m \u001b[1;31m#OK\u001b[0m\u001b[1;33m\u001b[0m\u001b[1;33m\u001b[0m\u001b[0m\n\u001b[0;32m      2\u001b[0m \u001b[0mf\u001b[0m\u001b[1;33m(\u001b[0m\u001b[1;36m2\u001b[0m\u001b[1;33m,\u001b[0m\u001b[1;36m4\u001b[0m\u001b[1;33m,\u001b[0m\u001b[1;36m5\u001b[0m\u001b[1;33m,\u001b[0m\u001b[1;36m5\u001b[0m\u001b[1;33m,\u001b[0m\u001b[0me\u001b[0m\u001b[1;33m=\u001b[0m\u001b[1;36m2\u001b[0m\u001b[1;33m,\u001b[0m\u001b[0mf\u001b[0m\u001b[1;33m=\u001b[0m\u001b[1;36m6\u001b[0m\u001b[1;33m)\u001b[0m \u001b[1;31m#OK\u001b[0m\u001b[1;33m\u001b[0m\u001b[1;33m\u001b[0m\u001b[0m\n\u001b[1;32m----> 3\u001b[1;33m \u001b[0mf\u001b[0m\u001b[1;33m(\u001b[0m\u001b[1;36m2\u001b[0m\u001b[1;33m,\u001b[0m\u001b[1;36m4\u001b[0m\u001b[1;33m,\u001b[0m\u001b[1;36m5\u001b[0m\u001b[1;33m,\u001b[0m\u001b[0mb\u001b[0m\u001b[1;33m=\u001b[0m\u001b[1;36m5\u001b[0m\u001b[1;33m,\u001b[0m\u001b[0me\u001b[0m\u001b[1;33m=\u001b[0m\u001b[1;36m2\u001b[0m\u001b[1;33m,\u001b[0m\u001b[0mf\u001b[0m\u001b[1;33m=\u001b[0m\u001b[1;36m6\u001b[0m\u001b[1;33m)\u001b[0m\u001b[1;31m#KO\u001b[0m\u001b[1;33m\u001b[0m\u001b[1;33m\u001b[0m\u001b[0m\n\u001b[0m",
      "\u001b[1;31mTypeError\u001b[0m: f() got some positional-only arguments passed as keyword arguments: 'b'"
     ]
    }
   ],
   "source": [
    "f(2,4,d=5,c=5,e=2,f=6) #OK\n",
    "f(2,4,5,5,e=2,f=6) #OK\n",
    "f(2,4,5,b=5,e=2,f=6)#KO"
   ]
  },
  {
   "cell_type": "code",
   "execution_count": null,
   "id": "739eebed",
   "metadata": {},
   "outputs": [],
   "source": []
  }
 ],
 "metadata": {
  "kernelspec": {
   "display_name": "Python 3",
   "language": "python",
   "name": "python3"
  },
  "language_info": {
   "codemirror_mode": {
    "name": "ipython",
    "version": 3
   },
   "file_extension": ".py",
   "mimetype": "text/x-python",
   "name": "python",
   "nbconvert_exporter": "python",
   "pygments_lexer": "ipython3",
   "version": "3.8.8"
  }
 },
 "nbformat": 4,
 "nbformat_minor": 5
}
