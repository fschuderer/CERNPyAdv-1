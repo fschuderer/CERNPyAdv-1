{
 "cells": [
  {
   "cell_type": "markdown",
   "id": "07c2c7d9",
   "metadata": {},
   "source": [
    "## Function 1\n",
    "\n",
    "Write a function `addList()` that is able to add a list of numbers to another list of numbers:\n",
    "`addList([3,4,5] , [6,8,9,3,5])` should return `[9,12,14,3,5]`\n",
    "\n",
    "If the two lists are not of the same size, an optional argument (with a default value of 0) will allow you to indicate which value should be added to the elements that have no counterpart in the other list:\n",
    "`addList([3,4,5] , [6,8,9,3,5], 5)` should return `[9,12,14,8,10]` "
   ]
  },
  {
   "cell_type": "markdown",
   "id": "fb75e1c3",
   "metadata": {},
   "source": [
    "## Classes and OOP 1\n",
    "\n",
    "Write a Stack class using a **composition mechanism**.\n",
    "\n",
    "The Stack class should offer the following facilities:\n",
    "- the stack will have a maximum size given at construction, this maximum size should be defined as a readonly attribute\n",
    "- a push() method to add an element on top of the Stack\n",
    "- a pop() method to get and remove the element on top of the Stack\n",
    "- a peek() method to get the element on top of the Stack (without removing it)\n",
    "- a way to test if it is empty or not,\n",
    "- a way to determine its size (its current number of elements),\n",
    "- a way to test that a Stack is equal to another\n",
    "- a way to print easily the content of the Stack\n",
    "- a way to test if an element belongs to the stack or not"
   ]
  },
  {
   "cell_type": "markdown",
   "id": "fd59a5f5",
   "metadata": {},
   "source": [
    "## Classes and OOP 2\n",
    "\n",
    "Re-implement the `Stack` class using an inheritance mechanism (the `Stack` class will inherit from the `list` class).\n",
    "\n",
    "Compare this version of the `Stack` class with the previous one."
   ]
  },
  {
   "cell_type": "markdown",
   "id": "4c3bcebd",
   "metadata": {},
   "source": [
    "## Classes and OOP 3\n",
    "\n",
    "Create a new class `ListPlus` that will inherit from `list` and will provide a way to add the elements of 2 `ListPlus` object by pair:\n",
    "\n",
    "Example:\n",
    "\n",
    "`l1=ListPlus([3,4,5,6])\n",
    "l2=ListPlus([3,4])\n",
    "l2.append(5)\n",
    "l3=l1+l2\n",
    "print(l3) # output should be [6,8,10,6]`\n"
   ]
  },
  {
   "cell_type": "markdown",
   "id": "86bffce0",
   "metadata": {},
   "source": [
    "### Classes and Iterators\n",
    "\n",
    "Add to the class `Stack` an iterator.\n",
    "This iterator will return the stack elements starting from the one currently on top of the stack."
   ]
  },
  {
   "cell_type": "markdown",
   "id": "9fd84965",
   "metadata": {},
   "source": [
    "### Classes and Generators\n",
    "\n",
    "Modify the class `Stack` iterator: this time the iterator should be implemented with the help of a generator."
   ]
  },
  {
   "cell_type": "markdown",
   "id": "9154aad6",
   "metadata": {},
   "source": [
    "### Generator function 1\n",
    "\n",
    "Create a generator function that accepts as argument a iterable object and a number `n`.\n",
    "\n",
    "This function will return, `n` times, in a cyclic way, the element present into the iterable object:\n",
    "\n",
    "    \n",
    "    for i in cyclic(\"abc\", 5):\n",
    "        print(i, end=\" \")\n",
    "\n",
    "    a b c a b c a b c a b c a b c \n",
    "\n",
    "    d=list(cyclic([1,2,3,4,5], 3))\n",
    "    print(d)\n",
    "\n",
    "    [1, 2, 3, 4, 5, 1, 2, 3, 4, 5, 1, 2, 3, 4, 5]"
   ]
  },
  {
   "cell_type": "markdown",
   "id": "ea81803c",
   "metadata": {},
   "source": [
    "### Generator function 2\n",
    "\n",
    "Create a generator function that accepts as argument a collection of integral numbers.\n",
    "\n",
    "This function will generate a triplet for each integral numbers present in the collection:\n",
    "\n",
    "1. the number itself, \n",
    "2. it's factorial, \n",
    "3. the time elapsed between between the generation of this triplet and the previous one\n",
    "\n",
    "You can compute the elapsed time with the help of `time.perf_counter()`."
   ]
  },
  {
   "cell_type": "code",
   "execution_count": null,
   "id": "435449de",
   "metadata": {},
   "outputs": [],
   "source": []
  },
  {
   "cell_type": "markdown",
   "id": "dcf2f200",
   "metadata": {},
   "source": [
    "### Decorator 1:\n",
    "\n",
    "Implement a **@singleton** decorator.\n",
    "\n",
    "This decorator will turn a class into a singleton by storing the first instance of the class as an attribute. Later attempts at creating an instance will simply return the stored instance.\n"
   ]
  },
  {
   "cell_type": "markdown",
   "id": "2493b602",
   "metadata": {},
   "source": [
    "### Decorator 2:\n",
    "\n",
    "Implement a `@cache` decorator. \n",
    "\n",
    "This decorator will keep a cache of previous function calls (this is what is called *memoization*)."
   ]
  },
  {
   "cell_type": "markdown",
   "id": "6d3226bc",
   "metadata": {},
   "source": [
    "### Descriptors 1:\n",
    "\n",
    "Create a class `Temperature` composed of an instance variable \"Fahrenheit\".\n",
    "\n",
    "With the help of a descriptor create a computed data attribute Celsius: as soon as `fahrenheit` is updated, `celsius` should be updated to.\n"
   ]
  },
  {
   "cell_type": "code",
   "execution_count": null,
   "id": "b619bb23",
   "metadata": {},
   "outputs": [],
   "source": []
  }
 ],
 "metadata": {
  "kernelspec": {
   "display_name": "Python 3",
   "language": "python",
   "name": "python3"
  },
  "language_info": {
   "codemirror_mode": {
    "name": "ipython",
    "version": 3
   },
   "file_extension": ".py",
   "mimetype": "text/x-python",
   "name": "python",
   "nbconvert_exporter": "python",
   "pygments_lexer": "ipython3",
   "version": "3.8.8"
  }
 },
 "nbformat": 4,
 "nbformat_minor": 5
}
