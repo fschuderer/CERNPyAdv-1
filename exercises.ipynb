{
 "cells": [
  {
   "cell_type": "markdown",
   "id": "07c2c7d9",
   "metadata": {},
   "source": [
    "## Function 1\n",
    "\n",
    "Write a function `addList()` that is able to add a list of numbers to another list of numbers:\n",
    "`addList([3,4,5] , [6,8,9,3,5])` should return `[9,12,14,3,5]`\n",
    "\n",
    "If the two lists are not of the same size, an optional argument (with a default value of 0) will allow you to indicate which value should be added to the elements that have no counterpart in the other list:\n",
    "`addList([3,4,5] , [6,8,9,3,5], 5)` should return `[9,12,14,8,10]è "
   ]
  },
  {
   "cell_type": "markdown",
   "id": "fb75e1c3",
   "metadata": {},
   "source": [
    "## Classes and OOP 1\n",
    "\n",
    "Write a Stack class using a **composition mechanism**.\n",
    "\n",
    "The Stack class should offer the following facilities:\n",
    "- the stack will have a maximum size given at construction, this maximum size should be defined as a readonly attribute\n",
    "- a push() method to add an element on top of the Stack\n",
    "- a pop() method to get and remove the element on top of the Stack\n",
    "- a peek() method to get the element on top of the Stack (without removing it)\n",
    "- a way to test if it is empty or not,\n",
    "- a way to determine its size (its current number of elements),\n",
    "- a way to test that a Stack is equal to another\n",
    "- a way to print easily the content of the Stack\n",
    "- a way to test if an element belongs to the stack or not"
   ]
  },
  {
   "cell_type": "markdown",
   "id": "fd59a5f5",
   "metadata": {},
   "source": [
    "## Classes and OOP 2\n",
    "\n",
    "Re-implement the Stack class using an inheritance mechanism (the Stack class will inherit from the `list` class).\n",
    "\n",
    "Compare this version of the Stack class with the previous one."
   ]
  },
  {
   "cell_type": "markdown",
   "id": "dcf2f200",
   "metadata": {},
   "source": [
    "### Decorator 1:\n",
    "\n",
    "Implement a **@singleton** decorator.\n",
    "\n",
    "This decorator will turn a class into a singleton by storing the first instance of the class as an attribute. Later attempts at creating an instance will simply return the stored instance.\n"
   ]
  },
  {
   "cell_type": "code",
   "execution_count": 2,
   "id": "0035a96d",
   "metadata": {},
   "outputs": [
    {
     "name": "stdout",
     "output_type": "stream",
     "text": [
      "2652464275520\n",
      "2652464275520\n",
      "True\n"
     ]
    }
   ],
   "source": [
    "import functools\n",
    "\n",
    "def singleton(cls):\n",
    "    \"\"\"Make a class a Singleton class (only one instance)\"\"\"\n",
    "    @functools.wraps(cls)\n",
    "    def wrapper_singleton(*args, **kwargs):\n",
    "        if not wrapper_singleton.instance:\n",
    "            wrapper_singleton.instance = cls(*args, **kwargs)\n",
    "        return wrapper_singleton.instance\n",
    "    wrapper_singleton.instance = None\n",
    "    return wrapper_singleton\n",
    "\n",
    "@singleton\n",
    "class TheOne:\n",
    "    pass\n",
    "\n",
    "first_one = TheOne()\n",
    "another_one = TheOne()\n",
    "print(id(first_one))\n",
    "print(id(another_one))\n",
    "print(first_one is another_one)"
   ]
  },
  {
   "cell_type": "markdown",
   "id": "2493b602",
   "metadata": {},
   "source": [
    "### Decorator 2:\n",
    "\n",
    "Implement a `@cache` decorator. \n",
    "\n",
    "This decorator will keep a cache of previous function calls (this is what is called *memoization*)."
   ]
  },
  {
   "cell_type": "code",
   "execution_count": 3,
   "id": "9f2c2ad4",
   "metadata": {},
   "outputs": [
    {
     "name": "stdout",
     "output_type": "stream",
     "text": [
      "Call 1 of 'fibonacci'\n",
      "Call 2 of 'fibonacci'\n",
      "Call 3 of 'fibonacci'\n",
      "Call 4 of 'fibonacci'\n",
      "Call 5 of 'fibonacci'\n",
      "Call 6 of 'fibonacci'\n",
      "Call 7 of 'fibonacci'\n",
      "Call 8 of 'fibonacci'\n",
      "Call 9 of 'fibonacci'\n",
      "Call 10 of 'fibonacci'\n",
      "Call 11 of 'fibonacci'\n"
     ]
    },
    {
     "data": {
      "text/plain": [
       "{(1,): 1,\n",
       " (0,): 0,\n",
       " (2,): 1,\n",
       " (3,): 2,\n",
       " (4,): 3,\n",
       " (5,): 5,\n",
       " (6,): 8,\n",
       " (7,): 13,\n",
       " (8,): 21,\n",
       " (9,): 34,\n",
       " (10,): 55}"
      ]
     },
     "execution_count": 3,
     "metadata": {},
     "output_type": "execute_result"
    }
   ],
   "source": [
    "import functools\n",
    "\n",
    "class CountCalls:\n",
    "    def __init__(self, func):\n",
    "        functools.update_wrapper(self, func)\n",
    "        self.func = func\n",
    "        self.num_calls = 0\n",
    "\n",
    "    def __call__(self, *args, **kwargs):\n",
    "        self.num_calls += 1\n",
    "        print(f\"Call {self.num_calls} of {self.func.__name__!r}\")\n",
    "        return self.func(*args, **kwargs)\n",
    "    \n",
    "def cache(func):\n",
    "    \"\"\"Keep a cache of previous function calls\"\"\"\n",
    "    @functools.wraps(func)\n",
    "    def wrapper_cache(*args, **kwargs):\n",
    "        cache_key = args + tuple(kwargs.items())\n",
    "        if cache_key not in wrapper_cache.cache:\n",
    "            wrapper_cache.cache[cache_key] = func(*args, **kwargs)\n",
    "        return wrapper_cache.cache[cache_key]\n",
    "    wrapper_cache.cache = dict()\n",
    "    return wrapper_cache\n",
    "\n",
    "@cache\n",
    "@CountCalls\n",
    "def fibonacci(num):\n",
    "    if num < 2:\n",
    "        return num\n",
    "    return fibonacci(num - 1) + fibonacci(num - 2)\n",
    "\n",
    "fibonacci(10)\n",
    "fibonacci.cache"
   ]
  },
  {
   "cell_type": "markdown",
   "id": "6d3226bc",
   "metadata": {},
   "source": [
    "### Descriptors 1:\n",
    "\n",
    "Create a class `Temperature` composed of an instance variable \"Fahrenheit\".\n",
    "\n",
    "With the help of a descriptor create a computed data attribute Celsius: as soon as `fahrenheit` is updated, `celsius` should be updated to.\n"
   ]
  },
  {
   "cell_type": "code",
   "execution_count": 4,
   "id": "63b984b5",
   "metadata": {},
   "outputs": [
    {
     "name": "stdout",
     "output_type": "stream",
     "text": [
      "<class '__main__.Temperature'>\n",
      "100.0\n",
      "<class '__main__.Temperature'>\n",
      "212F 100.0C\n",
      "32.0\n",
      "<class '__main__.Temperature'>\n"
     ]
    },
    {
     "data": {
      "text/plain": [
       "32.0F 0.0C"
      ]
     },
     "execution_count": 4,
     "metadata": {},
     "output_type": "execute_result"
    }
   ],
   "source": [
    "class Celsius:\n",
    "\n",
    "    def __get__(self, instance, owner):\n",
    "        print(owner)\n",
    "        return 5 * (instance.fahrenheit - 32) / 9\n",
    "\n",
    "    def __set__(self, instance, value):\n",
    "        instance.fahrenheit = 32 + 9 * value / 5\n",
    "\n",
    "\n",
    "class Temperature:\n",
    "\n",
    "    celsius = Celsius()\n",
    "\n",
    "    def __init__(self, initial_f):\n",
    "        self.fahrenheit = initial_f\n",
    "    def __repr__(self):\n",
    "        return f\"{self.fahrenheit}F {self.celsius}C\"\n",
    "\n",
    "\n",
    "t = Temperature(212)\n",
    "print(t.celsius)\n",
    "print(t)\n",
    "t.celsius = 0\n",
    "print(t.fahrenheit)\n",
    "t.__dict__\n",
    "t"
   ]
  },
  {
   "cell_type": "code",
   "execution_count": null,
   "id": "b619bb23",
   "metadata": {},
   "outputs": [],
   "source": []
  }
 ],
 "metadata": {
  "kernelspec": {
   "display_name": "Python 3",
   "language": "python",
   "name": "python3"
  },
  "language_info": {
   "codemirror_mode": {
    "name": "ipython",
    "version": 3
   },
   "file_extension": ".py",
   "mimetype": "text/x-python",
   "name": "python",
   "nbconvert_exporter": "python",
   "pygments_lexer": "ipython3",
   "version": "3.8.8"
  }
 },
 "nbformat": 4,
 "nbformat_minor": 5
}
