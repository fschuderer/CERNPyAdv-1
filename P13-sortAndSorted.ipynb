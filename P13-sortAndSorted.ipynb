{
 "cells": [
  {
   "cell_type": "markdown",
   "id": "712af516",
   "metadata": {},
   "source": [
    "# sorting list and iterable objects\n",
    "\n",
    "Python lists have a built-in **list.sort()** method that sorts the list in-place (and return None).\n",
    " \n",
    "There is also a **sorted()** built-in function that builds a new sorted list from an iterable.\n",
    "\n",
    "**Note**: the **list.sort()** method is only defined for lists, the **sorted()** function accepts any *iterable*.\n",
    "\n",
    "By default (without any specific argument) *list.sort()* and *sorted()* will perform an ascending sort.\n",
    "\n",
    "The sort routines are guaranteed to use **\\_\\_lt\\_\\_()** when making comparisons between two objects. So, it is easy to add a standard sort order to a class by defining a **\\_\\_lt\\_\\_()** method"
   ]
  },
  {
   "cell_type": "code",
   "execution_count": 26,
   "id": "02aa1656",
   "metadata": {},
   "outputs": [
    {
     "name": "stdout",
     "output_type": "stream",
     "text": [
      "[11, 23, 45, 67, 79, 89]\n",
      "('ab', 'de', 'da', 'ba') -> ['ab', 'ba', 'da', 'de']\n"
     ]
    }
   ],
   "source": [
    "data1=[23,45,67,79,89,11]\n",
    "data1.sort()\n",
    "print(data1)\n",
    "data2=(\"ab\",\"de\",\"da\",\"ba\")\n",
    "result=sorted(data2)\n",
    "print(data2, \"->\", result)"
   ]
  },
  {
   "cell_type": "markdown",
   "id": "a6953f27",
   "metadata": {},
   "source": [
    "## Key Functions\n",
    "\n",
    "Both *list.sort()* and *sorted()* have a **key** parameter to specify a function or a lambda (in fact any callable) to be called on each list element prior to making comparisons.\n",
    "\n",
    "The value of the key parameter should be a callable that takes a single argument and returns a key to use for sorting purposes.\n",
    "\n",
    "A case-insensitive string comparison:"
   ]
  },
  {
   "cell_type": "code",
   "execution_count": 2,
   "id": "5a146d35",
   "metadata": {},
   "outputs": [
    {
     "data": {
      "text/plain": [
       "['?', 'Andrea', 'are', 'Hello', 'how', 'you']"
      ]
     },
     "execution_count": 2,
     "metadata": {},
     "output_type": "execute_result"
    }
   ],
   "source": [
    "text=\"Hello how are you Andrea ?\"\n",
    "sorted(text.split(), key=str.lower)"
   ]
  },
  {
   "cell_type": "markdown",
   "id": "3634db38",
   "metadata": {},
   "source": [
    "Here is how to sort complex objects using some of the object’s indices as keys.\n"
   ]
  },
  {
   "cell_type": "code",
   "execution_count": 25,
   "id": "4b394b09",
   "metadata": {},
   "outputs": [
    {
     "data": {
      "text/plain": [
       "[('Lena', 65443, 'RO134'),\n",
       " ('Magda', 78977, 'RO234'),\n",
       " ('Robin', 89877, 'RO153'),\n",
       " ('Andrea', 89877, 'RO153')]"
      ]
     },
     "execution_count": 25,
     "metadata": {},
     "output_type": "execute_result"
    }
   ],
   "source": [
    "collegues_t=[\n",
    "\t('Robin', 89877, 'RO153'),\n",
    "\t('Magda', 78977, 'RO234'),\n",
    "\t('Lena', 65443, 'RO134'),\n",
    "\t('Andrea', 89877, 'RO153')\n",
    "]\n",
    "sorted(collegues_t, key=lambda col: col[1])   # sort by phone"
   ]
  },
  {
   "cell_type": "code",
   "execution_count": 21,
   "id": "be87dd3e",
   "metadata": {},
   "outputs": [
    {
     "data": {
      "text/plain": [
       "[Collegue(name='Lena', phone=65443, office='RO134'),\n",
       " Collegue(name='Magda', phone=78977, office='RO234'),\n",
       " Collegue(name='Robin', phone=89877, office='RO153'),\n",
       " Collegue(name='Andrea', phone=89877, office='RO153')]"
      ]
     },
     "execution_count": 21,
     "metadata": {},
     "output_type": "execute_result"
    }
   ],
   "source": [
    "from dataclasses import dataclass\n",
    "\n",
    "@dataclass\n",
    "class Collegue:\n",
    "\tname:str\n",
    "\tphone:int\n",
    "\toffice:str\n",
    "collegues_o=[\n",
    "\tCollegue('Robin', 89877, 'RO153'),\n",
    "\tCollegue('Magda', 78977, 'RO234'),\n",
    "\tCollegue('Lena', 65443, 'RO134'),\n",
    "\tCollegue('Andrea', 89877, 'RO153'),\n",
    "]\n",
    "sorted(collegues_o, key=lambda col: col.phone) "
   ]
  },
  {
   "cell_type": "markdown",
   "id": "f309ec3f",
   "metadata": {},
   "source": [
    "## Operator Module Functions\n",
    "\n",
    "The key-function patterns shown above are very common, so Python provides convenience functions to make accessor functions easier and faster. The operator module has **itemgetter()**, **attrgetter()**, and a **methodcaller()** function.\n",
    "\n",
    "Using those functions, the above examples become simpler and faster:"
   ]
  },
  {
   "cell_type": "code",
   "execution_count": 18,
   "id": "be906b6e",
   "metadata": {},
   "outputs": [
    {
     "data": {
      "text/plain": [
       "[('Lena', 65443, 'RO134'),\n",
       " ('Magda', 78977, 'RO234'),\n",
       " ('Robin', 89877, 'RO153'),\n",
       " ('Andrea', 89877, 'RO153')]"
      ]
     },
     "execution_count": 18,
     "metadata": {},
     "output_type": "execute_result"
    }
   ],
   "source": [
    "from operator import itemgetter\n",
    "sorted(collegues_t, key=itemgetter(1))"
   ]
  },
  {
   "cell_type": "code",
   "execution_count": 19,
   "id": "fa17957b",
   "metadata": {},
   "outputs": [
    {
     "data": {
      "text/plain": [
       "[('Lena', 65443, 'RO134'),\n",
       " ('Magda', 78977, 'RO234'),\n",
       " ('Andrea', 89877, 'RO153'),\n",
       " ('Robin', 89877, 'RO153')]"
      ]
     },
     "execution_count": 19,
     "metadata": {},
     "output_type": "execute_result"
    }
   ],
   "source": [
    "from operator import itemgetter\n",
    "sorted(collegues_t, key=itemgetter(1,0))"
   ]
  },
  {
   "cell_type": "markdown",
   "id": "f6b6995c",
   "metadata": {},
   "source": [
    "The **operator** module functions allow multiple levels of sorting. \n",
    "For example, to sort by phone then by name:"
   ]
  },
  {
   "cell_type": "code",
   "execution_count": 22,
   "id": "5124d408",
   "metadata": {},
   "outputs": [
    {
     "data": {
      "text/plain": [
       "[Collegue(name='Lena', phone=65443, office='RO134'),\n",
       " Collegue(name='Magda', phone=78977, office='RO234'),\n",
       " Collegue(name='Robin', phone=89877, office='RO153'),\n",
       " Collegue(name='Andrea', phone=89877, office='RO153')]"
      ]
     },
     "execution_count": 22,
     "metadata": {},
     "output_type": "execute_result"
    }
   ],
   "source": [
    "from operator import attrgetter\n",
    "sorted(collegues_o, key=attrgetter('phone'))"
   ]
  },
  {
   "cell_type": "code",
   "execution_count": 23,
   "id": "2a8eeb80",
   "metadata": {},
   "outputs": [
    {
     "data": {
      "text/plain": [
       "[Collegue(name='Lena', phone=65443, office='RO134'),\n",
       " Collegue(name='Magda', phone=78977, office='RO234'),\n",
       " Collegue(name='Andrea', phone=89877, office='RO153'),\n",
       " Collegue(name='Robin', phone=89877, office='RO153')]"
      ]
     },
     "execution_count": 23,
     "metadata": {},
     "output_type": "execute_result"
    }
   ],
   "source": [
    "from operator import attrgetter\n",
    "sorted(collegues_o, key=attrgetter('phone', 'name'))"
   ]
  },
  {
   "cell_type": "markdown",
   "id": "a10c5798",
   "metadata": {},
   "source": [
    "### Ascending/Descending order\n",
    "\n",
    "Both **list.sort()** and **sorted()** accept a **reverse** parameter with a boolean value. This is used to flag descending sorts."
   ]
  },
  {
   "cell_type": "code",
   "execution_count": 24,
   "id": "bf9729e6",
   "metadata": {},
   "outputs": [
    {
     "data": {
      "text/plain": [
       "[Collegue(name='Robin', phone=89877, office='RO153'),\n",
       " Collegue(name='Andrea', phone=89877, office='RO153'),\n",
       " Collegue(name='Magda', phone=78977, office='RO234'),\n",
       " Collegue(name='Lena', phone=65443, office='RO134')]"
      ]
     },
     "execution_count": 24,
     "metadata": {},
     "output_type": "execute_result"
    }
   ],
   "source": [
    "from operator import attrgetter\n",
    "sorted(collegues_o, key=attrgetter('phone', 'name'), reverse=True)"
   ]
  },
  {
   "cell_type": "markdown",
   "id": "9b6e66af",
   "metadata": {},
   "source": [
    "### Sort Stability and Complex Sorts\n",
    "\n",
    "Sorts are guaranteed to be ***stable***: when multiple records have the same key, their original order is preserved."
   ]
  },
  {
   "cell_type": "code",
   "execution_count": null,
   "id": "d26cdde4",
   "metadata": {},
   "outputs": [],
   "source": []
  }
 ],
 "metadata": {
  "kernelspec": {
   "display_name": "Python 3",
   "language": "python",
   "name": "python3"
  },
  "language_info": {
   "codemirror_mode": {
    "name": "ipython",
    "version": 3
   },
   "file_extension": ".py",
   "mimetype": "text/x-python",
   "name": "python",
   "nbconvert_exporter": "python",
   "pygments_lexer": "ipython3",
   "version": "3.8.8"
  }
 },
 "nbformat": 4,
 "nbformat_minor": 5
}
