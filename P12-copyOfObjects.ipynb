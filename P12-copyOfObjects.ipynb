{
 "cells": [
  {
   "cell_type": "markdown",
   "id": "wrapped-physiology",
   "metadata": {},
   "source": [
    "# How to copy object in Python\n",
    "\n",
    "In Python the **`=`** operator only creates a new variable that shares the reference of the original object: it does not create a copy of an object."
   ]
  },
  {
   "cell_type": "code",
   "execution_count": 8,
   "id": "gentle-memphis",
   "metadata": {},
   "outputs": [
    {
     "name": "stdout",
     "output_type": "stream",
     "text": [
      "[Point(x=1, y=2), Point(x=3, y=4)] 87326408\n",
      "[Point(x=1, y=2), Point(x=3, y=4)] 87326408\n",
      "True\n",
      "[Point(x=1, y=2), Point(x=3, y=4), Point(x=0, y=0)] 87326408\n",
      "[Point(x=1, y=2), Point(x=3, y=4), Point(x=0, y=0)] 87326408\n"
     ]
    }
   ],
   "source": [
    "from dataclasses import dataclass\n",
    "\n",
    "@dataclass\n",
    "class Point:\n",
    "    x: int=0\n",
    "    y: int=0\n",
    "        \n",
    "l1=[Point(1,2), Point(3,4)]\n",
    "l2=l1\n",
    "print(l1, id(l1))\n",
    "print(l2, id(l2))\n",
    "print(\"l1 is l2:\", l1 is l2)\n",
    "l1.append(Point())\n",
    "print(l1, id(l1))\n",
    "print(l2, id(l2))"
   ]
  },
  {
   "cell_type": "markdown",
   "id": "inner-organizer",
   "metadata": {},
   "source": [
    "## Shallow copy and deep copy\n",
    "\n",
    "In Python, there are two ways to create copies:\n",
    "\n",
    "1. Shallow Copy\n",
    "2. Deep Copy\n",
    "\n",
    "To make these copy work, you can use the **`copy`** module.\n",
    "\n",
    "A shallow copy means constructing a new object and then populating it with references to the child objects found in the original. In essence, a shallow copy is only one level deep. \n",
    "\n",
    "The copying process does not recurse and therefore won’t create copies of the child objects themselves.\n",
    "\n",
    "A deep copy makes the copying process recursive. It means first constructing a new object and then recursively populating it with copies of the child objects found in the original. \n",
    "\n",
    "Copying an object this way walks the whole object tree to create a fully independent clone of the original object and all of its children.\n",
    "\n",
    "### Making Shallow Copies\n",
    "\n",
    "You can create a shallow copy of an object using the **`copy()`** function defined in the **copy** module.\n",
    "\n",
    "**Note**: the built-in collections `list`, `dict`, and `set` also provide a method **`copy()`** to create shallow copies.\n",
    "\n",
    "**Note**: with a `list` the slice **`[:]`** also create a shallow copy.\n"
   ]
  },
  {
   "cell_type": "code",
   "execution_count": 9,
   "id": "loaded-success",
   "metadata": {},
   "outputs": [
    {
     "name": "stdout",
     "output_type": "stream",
     "text": [
      "[Point(x=1, y=2), Point(x=3, y=4)] 91443336\n",
      "[Point(x=1, y=2), Point(x=3, y=4)] 92876104\n",
      "l1 is l2: False\n",
      "[Point(x=1, y=2), Point(x=3, y=4), Point(x=0, y=0)] 91443336\n",
      "[Point(x=1, y=2), Point(x=3, y=4)] 92876104\n",
      "92976800\n",
      "92976800\n",
      "[Point(x=10, y=2), Point(x=3, y=4)] 92876104\n"
     ]
    }
   ],
   "source": [
    "import copy\n",
    "\n",
    "l1=[Point(1,2), Point(3,4)]\n",
    "l2=copy.copy(l1)\n",
    "print(l1, id(l1))\n",
    "print(l2, id(l2))\n",
    "print(\"l1 is l2:\", l1 is l2)\n",
    "\n",
    "l1.append(Point())\n",
    "print(l1, id(l1))\n",
    "print(l2, id(l2))\n",
    "print(id(l1[0]))\n",
    "print(id(l2[0]))\n",
    "l1[0].x=10\n",
    "print(l2, id(l2))"
   ]
  },
  {
   "cell_type": "code",
   "execution_count": 5,
   "id": "recent-democracy",
   "metadata": {},
   "outputs": [
    {
     "name": "stdout",
     "output_type": "stream",
     "text": [
      "[Point(x=1, y=2), Point(x=3, y=4)] 88655432\n",
      "[Point(x=1, y=2), Point(x=3, y=4)] 88663944\n",
      "[Point(x=1, y=2), Point(x=3, y=4), Point(x=0, y=0)] 88655432\n",
      "[Point(x=1, y=2), Point(x=3, y=4)] 88663944\n",
      "91812304\n",
      "91812304\n",
      "[Point(x=10, y=2), Point(x=3, y=4)] 88663944\n"
     ]
    }
   ],
   "source": [
    "import copy\n",
    "\n",
    "l1=[Point(1,2), Point(3,4)]\n",
    "l2=l1.copy()\n",
    "print(l1, id(l1))\n",
    "print(l2, id(l2))\n",
    "print(\"l1 is l2:\", l1 is l2)\n",
    "\n",
    "l1.append(Point())\n",
    "print(l1, id(l1))\n",
    "print(l2, id(l2))\n",
    "print(id(l1[0]))\n",
    "print(id(l2[0]))\n",
    "l1[0].x=10\n",
    "print(l2, id(l2))"
   ]
  },
  {
   "cell_type": "markdown",
   "id": "subtle-cooking",
   "metadata": {},
   "source": [
    "## Making Deep Copies\n",
    "\n",
    "You can create a deep copy of an object using the **`deepcopy()`** function defined in the **copy** module."
   ]
  },
  {
   "cell_type": "code",
   "execution_count": 10,
   "id": "adapted-bradley",
   "metadata": {},
   "outputs": [
    {
     "name": "stdout",
     "output_type": "stream",
     "text": [
      "[Point(x=1, y=2), Point(x=3, y=4)] 92875592\n",
      "[Point(x=1, y=2), Point(x=3, y=4)] 91525384\n",
      "l1 is l2: False\n",
      "[Point(x=1, y=2), Point(x=3, y=4), Point(x=0, y=0)] 92875592\n",
      "[Point(x=1, y=2), Point(x=3, y=4)] 91525384\n",
      "92976968\n",
      "92977248\n",
      "[Point(x=1, y=2), Point(x=3, y=4)] 91525384\n"
     ]
    }
   ],
   "source": [
    "import copy\n",
    "\n",
    "l1=[Point(1,2), Point(3,4)]\n",
    "l2=copy.deepcopy(l1)\n",
    "print(l1, id(l1))\n",
    "print(l2, id(l2))\n",
    "print(\"l1 is l2:\", l1 is l2)\n",
    "\n",
    "l1.append(Point())\n",
    "print(l1, id(l1))\n",
    "print(l2, id(l2))\n",
    "print(id(l1[0]))\n",
    "print(id(l2[0]))\n",
    "l1[0].x=10\n",
    "print(l2, id(l2))"
   ]
  },
  {
   "cell_type": "markdown",
   "id": "false-operation",
   "metadata": {},
   "source": [
    "### Recursion in Deep Copy\n",
    "\n",
    "Deep copy works by constructing a new object and then recursively inserting copies of the objects found in the original. \n",
    "\n",
    "A deep copy may result in a recursive loop for recursive objects, i.e., compound objects that contain a reference to themselves.\n",
    "\n",
    "To avoid this kind of problem with duplicating recursive data structures, **`deepcopy()`** uses a dictionary to track objects that have already been copied. \n",
    "\n",
    "### Controlling Shallow and Deep copy\n",
    "\n",
    "If you define your own custom type you can to control how copies are made using the special methods **`__copy__`** and **`__deepcopy__`**.\n",
    "\n",
    "1. **`__copy__()`** is called without any argument and should return a shallow copy of the object.\n",
    "2. **`__deepcopy__()`** is called with a memo dictionary, and should return a deep copy of the object. \n",
    "Any member attributes that need to be deep-copied should be passed to `copy.deepcopy()`, along with the memo dictionary, to control for recursion (see above).\n"
   ]
  },
  {
   "cell_type": "code",
   "execution_count": null,
   "id": "square-rocket",
   "metadata": {},
   "outputs": [],
   "source": []
  }
 ],
 "metadata": {
  "kernelspec": {
   "display_name": "Python 3",
   "language": "python",
   "name": "python3"
  },
  "language_info": {
   "codemirror_mode": {
    "name": "ipython",
    "version": 3
   },
   "file_extension": ".py",
   "mimetype": "text/x-python",
   "name": "python",
   "nbconvert_exporter": "python",
   "pygments_lexer": "ipython3",
   "version": "3.8.8"
  }
 },
 "nbformat": 4,
 "nbformat_minor": 5
}
