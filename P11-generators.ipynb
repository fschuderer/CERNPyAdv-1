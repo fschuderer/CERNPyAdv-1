{
 "cells": [
  {
   "cell_type": "markdown",
   "id": "3cae4544",
   "metadata": {},
   "source": [
    "# Generators\n",
    "## Overview\n",
    "\n",
    "When the body of a function contains one or more occurrences of the keyword **yield**, the function is named a \"**generator**\".\n",
    "\n",
    "When a generator is called, the function body does not execute. Instead, calling the generator returns a special **iterator** object that wraps the function body, the set of its local variables (including its parameters), and the current point of execution, which is initially the start of the function.\n",
    "\n",
    "When the **next()** method of this iterator object is called, the function body executes up to the next **`yield`** statement, which takes the form:\n",
    "\n",
    "`yield expression`\n",
    "\n",
    "\n",
    "When a `yield` statement executes, the function is frozen with its execution state and local variables intact, and the expression following `yield` is returned as the result of the `next()` method.\n",
    "\n",
    "On the next call to `next()`,execution of the function body resumes where it left off, again up to the next `yield` statement.\n",
    "\n",
    "If the function body ends or executes a `return` statement, the iterator raises a `StopIteration` to indicate that the iterator is finished.\n",
    "\n",
    "**Note**: return statements in a generator cannot contain expressions.\n",
    "\n",
    "The most common way to use an iterator is to loop on it with a `for` statement, you typically call a generator in the same way:\n",
    "\n",
    "`for avariable in somegenerator(arguments):`\n",
    "\n",
    "Here is a generator that works somewhat like the built-in `range()` function, but returns a sequence of floating-point values instead of a sequence of integers:"
   ]
  },
  {
   "cell_type": "code",
   "execution_count": 1,
   "id": "0d6a31c9",
   "metadata": {},
   "outputs": [
    {
     "name": "stdout",
     "output_type": "stream",
     "text": [
      "2.3 3.3 4.3 5.3 6.3 7.3 8.3 "
     ]
    }
   ],
   "source": [
    "def frange(start, stop, step=1.0):\n",
    "    while start < stop:\n",
    "        yield start\n",
    "        start += step\n",
    "        \n",
    "for i in frange (2.3, 8.67):\n",
    "    print(i, end=\" \")"
   ]
  },
  {
   "cell_type": "markdown",
   "id": "590f0745",
   "metadata": {},
   "source": [
    "## Generator Expressions\n",
    "\n",
    "Some simple generators can be coded succinctly as expressions using syntax similar to **list comprehensions** but with parentheses instead of square brackets.\n",
    "\n",
    "Generator Expressions look like list comprehensions, but returns a generator back instead of a list.\n",
    "\n",
    "These **generator expressions** are designed for situations where the generator is used right away by an enclosing function or `for` loop.\n",
    "\n",
    "Generator expressions are more compact but less versatile than full generator definitions and tend to be more memory friendly than equivalent list comprehensions.\n",
    "\n",
    "Instead of:"
   ]
  },
  {
   "cell_type": "code",
   "execution_count": 23,
   "id": "b001656c",
   "metadata": {},
   "outputs": [
    {
     "name": "stdout",
     "output_type": "stream",
     "text": [
      "1 4 9 16 25 36 49 64 81 100 "
     ]
    }
   ],
   "source": [
    "def power2(nb):\n",
    "    for i in range(1,nb+1):\n",
    "        yield i*i\n",
    "for val in power2(10):\n",
    "    print(val, end=\" \")\n"
   ]
  },
  {
   "cell_type": "markdown",
   "id": "0795eee9",
   "metadata": {},
   "source": [
    "you can write:"
   ]
  },
  {
   "cell_type": "code",
   "execution_count": 24,
   "id": "677c86ab",
   "metadata": {},
   "outputs": [
    {
     "name": "stdout",
     "output_type": "stream",
     "text": [
      "1 4 9 16 25 36 49 64 81 100 "
     ]
    }
   ],
   "source": [
    "for val in (i*i for i in range(1,11)):\n",
    "    print(val, end=\" \")"
   ]
  },
  {
   "cell_type": "markdown",
   "id": "693e6fa7",
   "metadata": {},
   "source": [
    "The utility of generator expressions is greatly enhanced when combined with reduction functions like `sum()`, `min()`, `max()` or `itertools.reduce()`.\n",
    "\n",
    "The following summation code will build a full list of squares in memory, iterate over those values, and, when the reference is no longer needed, delete the list:\n"
   ]
  },
  {
   "cell_type": "code",
   "execution_count": 5,
   "id": "3880285a",
   "metadata": {},
   "outputs": [
    {
     "data": {
      "text/plain": [
       "285"
      ]
     },
     "execution_count": 5,
     "metadata": {},
     "output_type": "execute_result"
    }
   ],
   "source": [
    "sum([x*x for x in range(10)])"
   ]
  },
  {
   "cell_type": "markdown",
   "id": "93c77fc3",
   "metadata": {},
   "source": [
    "Memory is conserved by using a generator expression instead:\n"
   ]
  },
  {
   "cell_type": "code",
   "execution_count": 6,
   "id": "1e6a3280",
   "metadata": {},
   "outputs": [
    {
     "data": {
      "text/plain": [
       "285"
      ]
     },
     "execution_count": 6,
     "metadata": {},
     "output_type": "execute_result"
    }
   ],
   "source": [
    "sum(x*x for x in range(10))"
   ]
  },
  {
   "cell_type": "markdown",
   "id": "dddb37bf",
   "metadata": {},
   "source": [
    "The syntax requires that a generator expression always needs to be directly inside a set of parentheses and cannot have a comma on either side.\n",
    "\n",
    "This means that you can write: \n",
    "       `sum((x**2 for x in range(10)))`\n",
    "   or\n",
    "       `sum(x**2 for x in range(10))`\n",
    "       \n",
    "but you would have to write:"
   ]
  },
  {
   "cell_type": "code",
   "execution_count": 8,
   "id": "77ec9b00",
   "metadata": {},
   "outputs": [
    {
     "name": "stdout",
     "output_type": "stream",
     "text": [
      "285\n"
     ]
    }
   ],
   "source": [
    "import functools\n",
    "import operator\n",
    "print(functools.reduce(operator.add, (x**2 for x in range(10))))"
   ]
  },
  {
   "cell_type": "markdown",
   "id": "aea74fd7",
   "metadata": {},
   "source": [
    "## Generator as co-routines\n",
    "\n",
    "In languages that provide for generators, an important feature is the ability to pass a value back into the generator. This allows for supporting a programming feature called **coroutines**.\n",
    "\n",
    "In order to make the generators more powerful, the designers of Python have added in Python 2.5 the ability to pass data back into the generator.\n",
    "\n",
    "We’ve seen that generators allow us to pull data and pause execution from a function context. Coroutines allow us to push data. In this case, the `yield` statement basically means \"Wait until you get some input data\". \n",
    "\n",
    "If, from the perspective of the generator, you think of the `yield` as calling something, then the concept is easy; you just save the results of yield:\n",
    "\n",
    "`result = yield`\n",
    "\n",
    "From the perspective of the caller of the generator, this statement returns control back to the caller, just as before. \n",
    "\n",
    "From the perspective of the generator, when the execution comes back into the generator, a value will come with it (in this case, the generator saves it into the variable `result`).\n",
    "\n",
    "Where does the value come from? The caller must call a method called **`send()`** to pass a value back into the generator. The method `send()` behaves just like the method `next()`, except that it passes a value.\n",
    "\n",
    "Before we can do this, however, we must first ***prime*** the coroutine with a call to either `send(None)` or `__next__()`: a coroutine can't receive a value right away; it must first run through all its code leading up to its first `yield`.\n",
    "\n",
    "As with a generator, a coroutine is finished when it either reaches the end of its normal execution flow, or when it hits a return statement.\n",
    "\n",
    "Iterator objects also have a **`close()`** method (new in Python 2.5). This method frees up the resources for the generator and finishes the coroutine.\n",
    "\n",
    "If you call `next()` or `send()` again after calling `close()`, you'll get a `StopIteration` exception.\n"
   ]
  },
  {
   "cell_type": "code",
   "execution_count": 16,
   "id": "9ffeab49",
   "metadata": {},
   "outputs": [
    {
     "name": "stdout",
     "output_type": "stream",
     "text": [
      "Ready to check for names.\n",
      "Sorry, Marco not found\n",
      "Sorry, None not found\n",
      "The phone of Yann is 78887\n"
     ]
    },
    {
     "ename": "StopIteration",
     "evalue": "",
     "output_type": "error",
     "traceback": [
      "\u001b[1;31m---------------------------------------------------------------------------\u001b[0m",
      "\u001b[1;31mStopIteration\u001b[0m                             Traceback (most recent call last)",
      "Input \u001b[1;32mIn [16]\u001b[0m, in \u001b[0;36m<module>\u001b[1;34m\u001b[0m\n\u001b[0;32m     15\u001b[0m coro\u001b[38;5;241m.\u001b[39msend(\u001b[38;5;124m\"\u001b[39m\u001b[38;5;124mYann\u001b[39m\u001b[38;5;124m\"\u001b[39m)\n\u001b[0;32m     16\u001b[0m coro\u001b[38;5;241m.\u001b[39mclose()\n\u001b[1;32m---> 17\u001b[0m \u001b[43mcoro\u001b[49m\u001b[38;5;241;43m.\u001b[39;49m\u001b[43msend\u001b[49m\u001b[43m(\u001b[49m\u001b[38;5;124;43m\"\u001b[39;49m\u001b[38;5;124;43mDennis\u001b[39;49m\u001b[38;5;124;43m\"\u001b[39;49m\u001b[43m)\u001b[49m\n",
      "\u001b[1;31mStopIteration\u001b[0m: "
     ]
    }
   ],
   "source": [
    "def check_name_exists():\n",
    "    phone = {\"Dennis\":89766, \"Yann\":78887, \"Muriel\":87765, \"Tony\":54443, \"Julia\":76665}\n",
    "    print(\"Ready to check for names.\")\n",
    "    while True:\n",
    "        name = yield\n",
    "        if name in phone:\n",
    "            print(f\"The phone of {name} is {phone.get(name)}\")\n",
    "        else:\n",
    "            print(f\"Sorry, {name} not found\")\n",
    "            \n",
    "coro = check_name_exists() \n",
    "next(coro)\n",
    "\n",
    "coro.send(\"Marco\")\n",
    "coro.send(\"Yann\")\n",
    "coro.close() # To stop the coroutine\n",
    "coro.send(\"Dennis\") # Exception raised !"
   ]
  },
  {
   "cell_type": "markdown",
   "id": "70f6e77d",
   "metadata": {},
   "source": [
    "### Throwing exceptions to a generator\n",
    "\n",
    "Generators and coroutines also have a **`throw()`** method, which is used to raise an exception at the place they're paused.\n"
   ]
  },
  {
   "cell_type": "code",
   "execution_count": 18,
   "id": "344f5d72",
   "metadata": {},
   "outputs": [
    {
     "name": "stdout",
     "output_type": "stream",
     "text": [
      "Ready to check for names.\n",
      "Enter a name: toto\n",
      "Sorry, toto not found\n",
      "Enter a name: marco\n",
      "Sorry, marco not found\n",
      "Enter a name: Tony\n",
      "The phone of Tony is 54443\n",
      "Enter a name: \n",
      "Exception ValueError raised\n"
     ]
    },
    {
     "ename": "StopIteration",
     "evalue": "",
     "output_type": "error",
     "traceback": [
      "\u001b[1;31m---------------------------------------------------------------------------\u001b[0m",
      "\u001b[1;31mStopIteration\u001b[0m                             Traceback (most recent call last)",
      "Input \u001b[1;32mIn [18]\u001b[0m, in \u001b[0;36m<module>\u001b[1;34m\u001b[0m\n\u001b[0;32m     17\u001b[0m name\u001b[38;5;241m=\u001b[39m\u001b[38;5;28minput\u001b[39m(\u001b[38;5;124m\"\u001b[39m\u001b[38;5;124mEnter a name: \u001b[39m\u001b[38;5;124m\"\u001b[39m)\n\u001b[0;32m     18\u001b[0m \u001b[38;5;28;01mif\u001b[39;00m \u001b[38;5;28mlen\u001b[39m(name) \u001b[38;5;241m<\u001b[39m\u001b[38;5;241m=\u001b[39m \u001b[38;5;241m1\u001b[39m:\n\u001b[1;32m---> 19\u001b[0m     \u001b[43mcoro\u001b[49m\u001b[38;5;241;43m.\u001b[39;49m\u001b[43mthrow\u001b[49m\u001b[43m(\u001b[49m\u001b[38;5;167;43;01mValueError\u001b[39;49;00m\u001b[43m)\u001b[49m\n\u001b[0;32m     20\u001b[0m     \u001b[38;5;28;01mbreak\u001b[39;00m\n\u001b[0;32m     21\u001b[0m coro\u001b[38;5;241m.\u001b[39msend(name)\n",
      "\u001b[1;31mStopIteration\u001b[0m: "
     ]
    }
   ],
   "source": [
    "def check_name_exists():\n",
    "    phone = {\"Dennis\":89766, \"Yann\":78887, \"Muriel\":87765, \"Tony\":54443, \"Julia\":76665}\n",
    "    print(\"Ready to check for names.\")\n",
    "    try:\n",
    "        while True:\n",
    "            name = yield\n",
    "            if name in phone:\n",
    "                print(f\"The phone of {name} is {phone.get(name)}\")\n",
    "            else:\n",
    "                print(f\"Sorry, {name} not found\")\n",
    "    except ValueError:\n",
    "        print(\"Exception ValueError raised\")\n",
    "        \n",
    "coro = check_name_exists() \n",
    "next(coro)\n",
    "while True:\n",
    "    name=input(\"Enter a name: \")\n",
    "    if len(name) <= 1:\n",
    "        coro.throw(ValueError)\n",
    "        break\n",
    "    coro.send(name)\n",
    "\n",
    "coro.close() # To stop the coroutine\n"
   ]
  },
  {
   "cell_type": "markdown",
   "id": "ca1be1ae",
   "metadata": {},
   "source": [
    "## yield from\n",
    "\n",
    "When using a generator or a coroutine, you are not limited to only a single `yield`. You can, in fact, get other iterables, generators, or coroutines involved using **`yield from`**.\n",
    "\n",
    "For example, let's say we want to implement a generator to generate Fibonacci sequence with limits, and decide to hardcode the first five elements of the sequence to get things started, we could write:"
   ]
  },
  {
   "cell_type": "code",
   "execution_count": 25,
   "id": "9820172d",
   "metadata": {},
   "outputs": [
    {
     "name": "stdout",
     "output_type": "stream",
     "text": [
      "1 1 2 3 5 8 13 21 34 55 89 144 "
     ]
    }
   ],
   "source": [
    "def fibonacci():\n",
    "    starter = [1, 1, 2, 3, 5]\n",
    "    yield from starter\n",
    "\n",
    "    n1 = starter[-2]\n",
    "    n2 = starter[-1]\n",
    "\n",
    "    while True:\n",
    "        yield (n := n1 + n2)\n",
    "        n1, n2 = n2, n\n",
    "        \n",
    "for i in fibonacci():\n",
    "    print(i, end=\" \")\n",
    "    if i > 100:\n",
    "         break "
   ]
  },
  {
   "cell_type": "markdown",
   "id": "995dcc9a",
   "metadata": {},
   "source": [
    "In the above code, **:=** is the new \"**walrus operator**\" (new in Python 3.8), which assigns AND returns a value.\n",
    "You can, also write the code this way:\n",
    "\n",
    "`while True:\n",
    "    n = n1 + n2\n",
    "    yield n\n",
    "    n1, n2 = n2, n`"
   ]
  },
  {
   "cell_type": "code",
   "execution_count": null,
   "id": "304b25ad",
   "metadata": {},
   "outputs": [],
   "source": []
  }
 ],
 "metadata": {
  "kernelspec": {
   "display_name": "Python 3",
   "language": "python",
   "name": "python3"
  },
  "language_info": {
   "codemirror_mode": {
    "name": "ipython",
    "version": 3
   },
   "file_extension": ".py",
   "mimetype": "text/x-python",
   "name": "python",
   "nbconvert_exporter": "python",
   "pygments_lexer": "ipython3",
   "version": "3.8.8"
  }
 },
 "nbformat": 4,
 "nbformat_minor": 5
}
