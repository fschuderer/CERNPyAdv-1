{
 "cells": [
  {
   "cell_type": "markdown",
   "id": "reasonable-affect",
   "metadata": {},
   "source": [
    "# Decorators\n",
    "\n",
    "## Higher order functions\n",
    "\n",
    "Functions can be passed as arguments to another function.\n",
    "\n",
    "Such functions that take other functions as arguments are also called **higher order functions** (ex: `property`, `staticmethod`, `atexit.register`, ...)\n",
    "\n",
    "## Nested functions\n",
    "\n",
    "A function can define and return another function.\n",
    "\n",
    "Here, `is_returned()` is a **nested (or inner) function** which is defined and returned each time we call `is_called()`."
   ]
  },
  {
   "cell_type": "code",
   "execution_count": 33,
   "id": "necessary-guitar",
   "metadata": {},
   "outputs": [
    {
     "name": "stdout",
     "output_type": "stream",
     "text": [
      "Hello\n"
     ]
    }
   ],
   "source": [
    "def is_called():\n",
    "    def is_returned():\n",
    "        print(\"Hello\")\n",
    "    return is_returned\n",
    "\n",
    "result = is_called() # result is an alias of is_returned\n",
    "result()"
   ]
  },
  {
   "cell_type": "markdown",
   "id": "dying-genesis",
   "metadata": {},
   "source": [
    "## Python closures\n",
    "\n",
    "A **closure** is a nested function which has access to a **free variable** from an enclosing function that has finished its execution. \n",
    "\n",
    "The three characteristics of a Python closure are:\n",
    "\n",
    "1. it is a nested function\n",
    "2. it has access to a free variable in outer scope\n",
    "3. it is returned from the enclosing function\n",
    "\n",
    "A **free variable** is a variable that is not bound in the local scope. \n",
    "\n",
    "The following `print_message` function returns a `printer` function which is assigned to the `myprinter` variable. \n",
    "\n",
    "At this moment, `print_message` has finished its execution. However, the `printer` closure still has access to the `msg` and `name` variables."
   ]
  },
  {
   "cell_type": "code",
   "execution_count": 35,
   "id": "empirical-pioneer",
   "metadata": {},
   "outputs": [
    {
     "name": "stdout",
     "output_type": "stream",
     "text": [
      "hello Vadim!\n"
     ]
    }
   ],
   "source": [
    "def print_message(name):\n",
    "\n",
    "    msg = \"Hello\"\n",
    "\n",
    "    def printer():\n",
    "        print(f\"{msg} {name}!\")\n",
    "\n",
    "    return printer\n",
    "\n",
    "\n",
    "myprinter = print_message(\"Vadim\")\n",
    "myprinter()"
   ]
  },
  {
   "cell_type": "markdown",
   "id": "waiting-proof",
   "metadata": {},
   "source": [
    "In order for closures to rebind (assign) a free variables, it has to be prefixed by the **nonlocal** keyword."
   ]
  },
  {
   "cell_type": "code",
   "execution_count": 40,
   "id": "entertaining-retreat",
   "metadata": {},
   "outputs": [
    {
     "name": "stdout",
     "output_type": "stream",
     "text": [
      "1\n",
      "2\n",
      "3\n"
     ]
    }
   ],
   "source": [
    "def make_counter():\n",
    "    count = 0\n",
    "    def inner():\n",
    "        nonlocal count\n",
    "        count += 1\n",
    "        return count\n",
    "    return inner\n",
    "\n",
    "\n",
    "inc_counter = make_counter()\n",
    "c = inc_counter()\n",
    "print(c)\n",
    "c = inc_counter()\n",
    "print(c)\n",
    "c = inc_counter()\n",
    "print(c)"
   ]
  },
  {
   "cell_type": "markdown",
   "id": "directed-general",
   "metadata": {},
   "source": [
    "## Decorators\n",
    "\n",
    "**Decorators** are Python objects that can register, annotate, and/or wrap a Python function, method or class. \n",
    "\n",
    "A decorator is a callable object that accepts one argument the function (the method or the class) being decorated.\n",
    "\n",
    "The return value of the decorator replaces the original function (method or class) definition.\n",
    "\n",
    "Decorators may appear before any function, inner function, method or class definition.\n",
    "\n",
    "For example, the builtin function `staticmethod()` can be used to transform an instance method into a static method.\n",
    "\n",
    "Without the decorator feature, a program that uses this function looks something like:"
   ]
  },
  {
   "cell_type": "code",
   "execution_count": 9,
   "id": "molecular-malaysia",
   "metadata": {},
   "outputs": [
    {
     "name": "stdout",
     "output_type": "stream",
     "text": [
      "Hello\n"
     ]
    }
   ],
   "source": [
    "class Demo:\n",
    "    def sayHello():\n",
    "        print(\"Hello\")\n",
    "    sayHello=staticmethod(sayHello)\n",
    "    \n",
    "Demo.sayHello()"
   ]
  },
  {
   "cell_type": "markdown",
   "id": "unknown-louisiana",
   "metadata": {},
   "source": [
    "The decorator version looks like this:"
   ]
  },
  {
   "cell_type": "code",
   "execution_count": 10,
   "id": "elect-touch",
   "metadata": {},
   "outputs": [
    {
     "name": "stdout",
     "output_type": "stream",
     "text": [
      "Hello\n"
     ]
    }
   ],
   "source": [
    "class Demo:\n",
    "    @staticmethod\n",
    "    def sayHello():\n",
    "        print(\"Hello\")\n",
    "    \n",
    "Demo.sayHello()"
   ]
  },
  {
   "cell_type": "markdown",
   "id": "modern-blade",
   "metadata": {},
   "source": [
    "What are the advantages of the decorator syntax?\n",
    "\n",
    "1. You are made aware that the method is a static method before you read the method body, giving you a better context for understanding the method.\n",
    "2. The method name is not repeated.\n",
    "\n",
    "Decorator are often used to annotate a function (by adding attributes to it), or wrapping a function with another function, then returning the wrapper (which replaces the original function).\n",
    "\n",
    "**Note**: a decorator may return any kind of objects, which means that for advanced uses, you can turn functions or methods into specialized objects of your own choosing."
   ]
  },
  {
   "cell_type": "markdown",
   "id": "prescription-window",
   "metadata": {},
   "source": [
    "## Stacking decorators\n",
    "\n",
    "You can stack multiple decorators on the same function (method or class) definition, one per line.\n",
    "\n",
    "The ordering of the decorators determines the structure of the result.\n",
    "\n",
    "When you write:"
   ]
  },
  {
   "cell_type": "code",
   "execution_count": 11,
   "id": "postal-workstation",
   "metadata": {},
   "outputs": [
    {
     "ename": "SyntaxError",
     "evalue": "invalid syntax (<ipython-input-11-05b1729054f9>, line 3)",
     "output_type": "error",
     "traceback": [
      "\u001b[1;36m  File \u001b[1;32m\"<ipython-input-11-05b1729054f9>\"\u001b[1;36m, line \u001b[1;32m3\u001b[0m\n\u001b[1;33m    def func(arg1, arg2, ...):\u001b[0m\n\u001b[1;37m                           ^\u001b[0m\n\u001b[1;31mSyntaxError\u001b[0m\u001b[1;31m:\u001b[0m invalid syntax\n"
     ]
    }
   ],
   "source": [
    "@dec2\n",
    "@dec1\n",
    "def func(arg1, arg2):\n",
    "    pass"
   ]
  },
  {
   "cell_type": "markdown",
   "id": "organized-latin",
   "metadata": {},
   "source": [
    "This is equivalent to:"
   ]
  },
  {
   "cell_type": "code",
   "execution_count": 12,
   "id": "computational-disclosure",
   "metadata": {},
   "outputs": [
    {
     "ename": "NameError",
     "evalue": "name 'dec2' is not defined",
     "output_type": "error",
     "traceback": [
      "\u001b[1;31m---------------------------------------------------------------------------\u001b[0m",
      "\u001b[1;31mNameError\u001b[0m                                 Traceback (most recent call last)",
      "\u001b[1;32m<ipython-input-12-939b6c1d3d62>\u001b[0m in \u001b[0;36m<module>\u001b[1;34m\u001b[0m\n\u001b[0;32m      1\u001b[0m \u001b[1;32mdef\u001b[0m \u001b[0mfunc\u001b[0m\u001b[1;33m(\u001b[0m\u001b[0marg1\u001b[0m\u001b[1;33m,\u001b[0m \u001b[0marg2\u001b[0m\u001b[1;33m)\u001b[0m\u001b[1;33m:\u001b[0m\u001b[1;33m\u001b[0m\u001b[1;33m\u001b[0m\u001b[0m\n\u001b[0;32m      2\u001b[0m     \u001b[1;32mpass\u001b[0m\u001b[1;33m\u001b[0m\u001b[1;33m\u001b[0m\u001b[0m\n\u001b[1;32m----> 3\u001b[1;33m \u001b[0mfunc\u001b[0m \u001b[1;33m=\u001b[0m \u001b[0mdec2\u001b[0m\u001b[1;33m(\u001b[0m\u001b[0mdec1\u001b[0m\u001b[1;33m(\u001b[0m\u001b[0mfunc\u001b[0m\u001b[1;33m)\u001b[0m\u001b[1;33m)\u001b[0m\u001b[1;33m\u001b[0m\u001b[1;33m\u001b[0m\u001b[0m\n\u001b[0m",
      "\u001b[1;31mNameError\u001b[0m: name 'dec2' is not defined"
     ]
    }
   ],
   "source": [
    "def func(arg1, arg2):\n",
    "    pass\n",
    "func = dec2(dec1(func))"
   ]
  },
  {
   "cell_type": "markdown",
   "id": "expired-affiliation",
   "metadata": {},
   "source": [
    "## Classes as decorators\n",
    "\n",
    "Functions and methods are called **callable** as they can be called.\n",
    "\n",
    "In fact, any object which implements the special **`__call__()`** method is a callable object. \n",
    "\n",
    "A decorator can be defined as a *callable* class.\n",
    "\n",
    "Recall that the decorator syntax:\n",
    "\n",
    "`@my_decorator\n",
    " def func:\n",
    "    pass`\n",
    "    \n",
    "is just an easier way of saying:\n",
    "\n",
    "`func = my_decorator(func)` \n",
    "\n",
    "Therefore, if `my_decorator` is a class, it needs to take func as an argument in its `__init__()` method. Furthermore, the class instance needs to be callable so that it can stand in for the decorated function.\n",
    "\n",
    "The following class, for instance, can be used as a decorator:"
   ]
  },
  {
   "cell_type": "code",
   "execution_count": 3,
   "id": "advisory-closer",
   "metadata": {},
   "outputs": [],
   "source": [
    "class traced:\n",
    "    def __init__(self,func):\n",
    "        self.func = func\n",
    "    def __call__(self,*__args,**__kw):\n",
    "        print(\"entering\", self.func)\n",
    "        try:\n",
    "            return self.func(*__args,**__kw)\n",
    "        finally:\n",
    "            print(\"exiting\", self.func)\n"
   ]
  },
  {
   "cell_type": "markdown",
   "id": "technical-assumption",
   "metadata": {},
   "source": [
    "After having decorated the following `hello()` function with `@traced` `hello` is no longer a function, but is instead an instance of the `traced` class that has the old `hello` function saved in its `func` attribute."
   ]
  },
  {
   "cell_type": "code",
   "execution_count": 6,
   "id": "upper-museum",
   "metadata": {},
   "outputs": [
    {
     "name": "stdout",
     "output_type": "stream",
     "text": [
      "entering <function hello at 0x0000000005782BF8>\n",
      "Hello, my name is Marco!\n",
      "exiting <function hello at 0x0000000005782BF8>\n"
     ]
    }
   ],
   "source": [
    "@traced\n",
    "def hello(name):\n",
    "    print(f\"Hello, my name is {name}!\")\n",
    "    \n",
    "hello(\"Marco\")"
   ]
  },
  {
   "cell_type": "markdown",
   "id": "comfortable-nutrition",
   "metadata": {},
   "source": [
    "## Functions as Decorators\n",
    "\n",
    "Most decorators expect an actual function as their input and return a function. \n",
    "\n",
    "To make our previous decorator (`traced`) which return a class instance be compatible with a wider range of decorators, we can modify it to return a function.\n",
    "\n",
    "The following decorator provides the same functionality as the original `traced` decorator, but instead of returning a `traced` object instance, it returns a new function object that wraps the original function."
   ]
  },
  {
   "cell_type": "code",
   "execution_count": 13,
   "id": "acknowledged-appreciation",
   "metadata": {},
   "outputs": [
    {
     "name": "stdout",
     "output_type": "stream",
     "text": [
      "entering <function hello at 0x00000000057A40D0>\n",
      "Hello, my name is Marco!\n",
      "exiting <function hello at 0x00000000057A40D0>\n"
     ]
    }
   ],
   "source": [
    "def traced(func):\n",
    "    def wrapper(*__args,**__kw):\n",
    "        print(\"entering\", func)\n",
    "        try:\n",
    "            return func(*__args,**__kw)\n",
    "        finally:\n",
    "            print(\"exiting\", func)\n",
    "    return wrapper\n",
    "\n",
    "@traced\n",
    "def hello(name):\n",
    "    print(f\"Hello, my name is {name}!\")\n",
    "    \n",
    "hello(\"Marco\")"
   ]
  },
  {
   "cell_type": "markdown",
   "id": "minimal-strength",
   "metadata": {},
   "source": [
    "## Inner functions and closures\n",
    "\n",
    "When you define a function inside of another function, any undefined local variables in the inner function will take the value of that variable in the outer function.\n",
    "\n",
    "In the preceding decorator, the value of `func` in the inner function comes from the value of `func` in the outer function.\n",
    "\n",
    "Because the inner function definition is executed each time the outer function is called, Python actually creates a new wrapper function object each time. Such function objects are called \"**lexical closures**\" because they enclose a set of variables from the lexical scope where the function was defined.\n",
    "\n",
    "A closure does not actually duplicate the code of the function, however; it simply encloses a reference to the existing code, and a reference to the free variables from the enclosing function. \n",
    "In this case, that means that the wrapper closure is essentially a pointer to the Python bytecode making up the wrapper function body, and a pointer to the local variables of the `traced` function during the invocation when the closure was created.\n",
    "\n",
    "Because a closure is really just a normal Python function object (with some predefined variables), and because most decorators expect to receive a function object, creating a closure is the most popular way of creating a ***stackable decorator***."
   ]
  },
  {
   "cell_type": "markdown",
   "id": "urban-crossing",
   "metadata": {},
   "source": [
    "## Decorators with Arguments\n",
    "\n",
    "It is possible to pass one or more arguments to a decorator.\n",
    "\n",
    "When you write:\n",
    "\n",
    "`@decomaker(argA, argB, ...)\n",
    " def func(arg1, arg2, ...):\n",
    "    pass`\n",
    "\n",
    "This is equivalent to:\n",
    "\n",
    "`func = decomaker(argA, argB, ...)(func)`\n",
    "\n",
    "For instance you may decide to create a `@require` decorator that will give the possibility to record a method's precondition.\n",
    "\n",
    "Here is a simplified version (inheritance is not taken into account for instance) of what this decorator may look like:"
   ]
  },
  {
   "cell_type": "code",
   "execution_count": 3,
   "id": "biological-trail",
   "metadata": {},
   "outputs": [
    {
     "name": "stdout",
     "output_type": "stream",
     "text": [
      "Hello world!\n"
     ]
    },
    {
     "ename": "AssertionError",
     "evalue": "Precond len(args)==1 failed",
     "output_type": "error",
     "traceback": [
      "\u001b[1;31m---------------------------------------------------------------------------\u001b[0m",
      "\u001b[1;31mAssertionError\u001b[0m                            Traceback (most recent call last)",
      "\u001b[1;32m<ipython-input-3-59c663113862>\u001b[0m in \u001b[0;36m<module>\u001b[1;34m\u001b[0m\n\u001b[0;32m     13\u001b[0m \u001b[0mtest\u001b[0m\u001b[1;33m(\u001b[0m\u001b[1;34m\"Hello world!\"\u001b[0m\u001b[1;33m)\u001b[0m\u001b[1;33m\u001b[0m\u001b[1;33m\u001b[0m\u001b[0m\n\u001b[0;32m     14\u001b[0m \u001b[1;33m\u001b[0m\u001b[0m\n\u001b[1;32m---> 15\u001b[1;33m \u001b[0mtest\u001b[0m\u001b[1;33m(\u001b[0m\u001b[1;36m12\u001b[0m\u001b[1;33m,\u001b[0m\u001b[1;36m23\u001b[0m\u001b[1;33m)\u001b[0m \u001b[1;31m# Exception raised  (Assertion Error)!\u001b[0m\u001b[1;33m\u001b[0m\u001b[1;33m\u001b[0m\u001b[0m\n\u001b[0m",
      "\u001b[1;32m<ipython-input-3-59c663113862>\u001b[0m in \u001b[0;36mwrapper\u001b[1;34m(*args, **kw)\u001b[0m\n\u001b[0;32m      2\u001b[0m     \u001b[1;32mdef\u001b[0m \u001b[0mdecorator\u001b[0m\u001b[1;33m(\u001b[0m\u001b[0mfunc\u001b[0m\u001b[1;33m)\u001b[0m\u001b[1;33m:\u001b[0m\u001b[1;33m\u001b[0m\u001b[1;33m\u001b[0m\u001b[0m\n\u001b[0;32m      3\u001b[0m         \u001b[1;32mdef\u001b[0m \u001b[0mwrapper\u001b[0m\u001b[1;33m(\u001b[0m\u001b[1;33m*\u001b[0m\u001b[0margs\u001b[0m\u001b[1;33m,\u001b[0m\u001b[1;33m**\u001b[0m\u001b[0mkw\u001b[0m\u001b[1;33m)\u001b[0m\u001b[1;33m:\u001b[0m\u001b[1;33m\u001b[0m\u001b[1;33m\u001b[0m\u001b[0m\n\u001b[1;32m----> 4\u001b[1;33m             \u001b[1;32massert\u001b[0m \u001b[0meval\u001b[0m\u001b[1;33m(\u001b[0m\u001b[0mexpr\u001b[0m\u001b[1;33m)\u001b[0m\u001b[1;33m,\u001b[0m\u001b[1;34mf\"Precond {expr} failed\"\u001b[0m\u001b[1;33m\u001b[0m\u001b[1;33m\u001b[0m\u001b[0m\n\u001b[0m\u001b[0;32m      5\u001b[0m             \u001b[1;32mreturn\u001b[0m \u001b[0mfunc\u001b[0m\u001b[1;33m(\u001b[0m\u001b[1;33m*\u001b[0m\u001b[0margs\u001b[0m\u001b[1;33m,\u001b[0m\u001b[1;33m**\u001b[0m\u001b[0mkw\u001b[0m\u001b[1;33m)\u001b[0m\u001b[1;33m\u001b[0m\u001b[1;33m\u001b[0m\u001b[0m\n\u001b[0;32m      6\u001b[0m         \u001b[1;32mreturn\u001b[0m \u001b[0mwrapper\u001b[0m\u001b[1;33m\u001b[0m\u001b[1;33m\u001b[0m\u001b[0m\n",
      "\u001b[1;31mAssertionError\u001b[0m: Precond len(args)==1 failed"
     ]
    }
   ],
   "source": [
    "def require(expr):\n",
    "    def decorator(func):\n",
    "        def wrapper(*args,**kw):\n",
    "            assert eval(expr),f\"Precond {expr} failed\"\n",
    "            return func(*args,**kw)\n",
    "        return wrapper\n",
    "    return decorator\n",
    "\n",
    "@require(\"len(args)==1\")\n",
    "def test(*args):\n",
    "    print(args[0])\n",
    "    \n",
    "test(\"Hello world!\")\n",
    "\n",
    "test(12,23) # Exception raised  (Assertion Error)!"
   ]
  },
  {
   "cell_type": "markdown",
   "id": "perceived-chest",
   "metadata": {},
   "source": [
    "The `require` decorator creates two closures. \n",
    "\n",
    "The first closure creates a decorator function that knows the `expr` that was supplied to `@require`. This means `require` itself is not really the decorator function here. Instead, `require` returns the decorator function, here called`decorator`. \n",
    "\n",
    "This is very different from the previous decorators, and this change is necessary to implement parameterized decorators.\n",
    "\n",
    "The second closure is the actual wrapper function that evaluates `expr` whenever the original function is called.\n",
    "\n",
    "**Note**: decorator invocations follow the same syntax rules as normal Python function or method calls, so you can use positional arguments, keyword arguments, or both."
   ]
  },
  {
   "cell_type": "markdown",
   "id": "convinced-chart",
   "metadata": {},
   "source": [
    "## Safe decorators\n",
    "\n",
    "It’s easy to create a decorator that will work by itself, but creating a decorator that will work properly when combined with other decorators is a bit more complex.\n",
    "\n",
    "To the extent possible, a decorator should return an actual function object, with the same name and attributes as the original function, so as not to confuse an outer decorator or cancel out the work of an inner decorator.\n",
    "\n",
    "This means that decorators that simply modify and return the function they were given (like `@author`), are already safe. But decorators that return a wrapper function need to do two more things to be safe:\n",
    "1. Set the new function's name to match the old function's name.\n",
    "2. Copy the old function's attributes to the new function.\n",
    "\n",
    "The `@require` decorator has been modified to follow these recommendations:"
   ]
  },
  {
   "cell_type": "code",
   "execution_count": 21,
   "id": "wrapped-activity",
   "metadata": {},
   "outputs": [],
   "source": [
    "def require(expr):\n",
    "    def decorator(func):\n",
    "        def wrapper(*__args,**__kw):\n",
    "            assert eval(expr),f\"Precond {expr} failed\"\n",
    "            return func(*__args,**__kw)\n",
    "        wrapper.__name__ = func.__name__\n",
    "        wrapper.__dict__ = func.__dict__\n",
    "        wrapper.__doc__ = func.__doc__\n",
    "        return wrapper\n",
    "    return decorator"
   ]
  },
  {
   "cell_type": "markdown",
   "id": "cultural-helmet",
   "metadata": {},
   "source": [
    "The **functools.wraps()** function is a facility that does exactly the same.\n",
    "\n",
    "`wraps()` takes a function used in a decorator and adds the functionality of copying over the function name, docstring, arguments list, etc.\n",
    "\n",
    "And since `wraps()` is itself a decorator, the following code does the correct thing:"
   ]
  },
  {
   "cell_type": "code",
   "execution_count": 22,
   "id": "presidential-indiana",
   "metadata": {},
   "outputs": [],
   "source": [
    "def require(expr):\n",
    "    def decorator(func):\n",
    "        @wraps(func)\n",
    "        def wrapper(*__args,**__kw):\n",
    "            assert eval(expr),\"Precond {expr} failed\"\n",
    "            return func(*__args,**__kw)\n",
    "        return wrapper\n",
    "    return decorator"
   ]
  },
  {
   "cell_type": "markdown",
   "id": "extreme-andrews",
   "metadata": {},
   "source": [
    "## Stateful Decorators\n",
    "\n",
    "Sometimes, it’s useful to have a decorator that can keep track of state.\n",
    "\n",
    "We can use classes to keep state, but, in simple cases, you can also get away with using function attributes.\n",
    "\n",
    "Function attributes let you record arbitrary values as attributes on a function object.\n",
    "\n",
    "For example, suppose you want to track the author of a function or method, using an `@author` decorator. In the following example, you simply set an `author_name` attribute on a function and return it, rather than creating a wrapper. \n",
    "\n",
    "Then, you can retrieve the attribute at a later time as part of some metadata-gathering operation."
   ]
  },
  {
   "cell_type": "code",
   "execution_count": 16,
   "id": "correct-humanity",
   "metadata": {},
   "outputs": [
    {
     "name": "stdout",
     "output_type": "stream",
     "text": [
      "John Martin\n"
     ]
    }
   ],
   "source": [
    "def author(author_name):\n",
    "    def decorator(func):\n",
    "        func.author_name = author_name\n",
    "        return func\n",
    "    return decorator\n",
    "\n",
    "@author(\"John Martin\")\n",
    "def sequenceOf(param1, param2):\n",
    "    pass\n",
    "\n",
    "print(sequenceOf.author_name)"
   ]
  },
  {
   "cell_type": "markdown",
   "id": "mathematical-repeat",
   "metadata": {},
   "source": [
    "The typical way to maintain state is by using classes.\n",
    "\n",
    "As a simple example, here we create a decorator that counts the number of times a function is called.\n",
    "\n",
    "The `__init__()` method must store a reference to the function and can do any other necessary initialization. The `__call__()` method will be called instead of the decorated function. \n",
    "\n",
    "It does essentially the same thing as the `wrapper()` function in our earlier examples. \n",
    "\n",
    "Note that you need to use the `functools.update_wrapper()` function instead of `@functools.wraps`."
   ]
  },
  {
   "cell_type": "code",
   "execution_count": 3,
   "id": "quick-nursing",
   "metadata": {},
   "outputs": [
    {
     "name": "stdout",
     "output_type": "stream",
     "text": [
      "Call 1 of 'say_hello'\n",
      "Hello!\n",
      "Call 2 of 'say_hello'\n",
      "Hello!\n"
     ]
    },
    {
     "data": {
      "text/plain": [
       "2"
      ]
     },
     "execution_count": 3,
     "metadata": {},
     "output_type": "execute_result"
    }
   ],
   "source": [
    "import functools\n",
    "\n",
    "class CountCalls:\n",
    "    def __init__(self, func):\n",
    "        functools.update_wrapper(self, func)\n",
    "        self.func = func\n",
    "        self.num_calls = 0\n",
    "\n",
    "    def __call__(self, *args, **kwargs):\n",
    "        self.num_calls += 1\n",
    "        print(f\"Call {self.num_calls} of {self.func.__name__!r}\")\n",
    "        return self.func(*args, **kwargs)\n",
    "\n",
    "@CountCalls\n",
    "def say_hello():\n",
    "    print(\"Hello!\")\n",
    "    \n",
    "say_hello()\n",
    "say_hello()\n",
    "say_hello.num_calls"
   ]
  }
 ],
 "metadata": {
  "kernelspec": {
   "display_name": "Python 3",
   "language": "python",
   "name": "python3"
  },
  "language_info": {
   "codemirror_mode": {
    "name": "ipython",
    "version": 3
   },
   "file_extension": ".py",
   "mimetype": "text/x-python",
   "name": "python",
   "nbconvert_exporter": "python",
   "pygments_lexer": "ipython3",
   "version": "3.8.8"
  }
 },
 "nbformat": 4,
 "nbformat_minor": 5
}
