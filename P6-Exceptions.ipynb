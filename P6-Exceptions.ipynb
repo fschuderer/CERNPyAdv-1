{
 "cells": [
  {
   "cell_type": "markdown",
   "id": "musical-minister",
   "metadata": {},
   "source": [
    "# The Exception mechanism\n",
    "\n",
    "## The try statement \n",
    "\n",
    "The basic `try` statement looks the following:\n",
    "\n",
    "`try:\n",
    "    statement 1\n",
    "    statement 2\n",
    "    ...\n",
    "except ExceptionType1 as ex:\n",
    "    statement 3\n",
    "    statement 4\n",
    "    ...\n",
    "except ExceptionType2 as ex:\n",
    "    statement 5\n",
    "    statement 6\n",
    "    ...\n",
    "...\n",
    "`\n",
    "\n",
    "The **try** statement works as follows:\n",
    "\n",
    "- First, the *try clause* (the statement(s) between the `try` and `except` keywords) is executed.\n",
    "\n",
    "- If no exception occurs, the *except clause* is skipped and execution of the `try` statement is finished.\n",
    "\n",
    "- If an exception occurs during execution of the *try clause*, the rest of the clause is skipped. Then, if its type matches the exception named after the `except` keyword, the *except clause* is executed, and then execution continues after the `try/except` block.\n",
    "\n",
    "- If an exception occurs which does not match the exception named in the *except clause*, it is passed on to outer `try` statements; if no handler is found, it is an unhandled exception and execution stops with a message.\n",
    "\n",
    "**Note**: Exception handlers handle exceptions if they occur immediately in the try clause, or if they occur inside functions that are called (even indirectly) in the try clause.\n",
    "\n",
    "## Multiple handlers\n",
    "\n",
    "A `try` statement may have more than one *except clause*, to specify handlers for different exceptions. At most one handler will be executed. \n",
    "\n",
    "Handlers only handle exceptions that occur in the corresponding try clause, not in other handlers of the same try statement. \n",
    "\n",
    "An except clause may name multiple exceptions as a parenthesized tuple, for example:\n",
    "\n",
    "`except (RuntimeError, TypeError, NameError):\n",
    "    statement 1\n",
    "    statement 2\n",
    "`   \n",
    "\n",
    "A class in an *except clause* is compatible with an exception if it is the same class or a base class thereof.\n",
    "\n",
    "All exceptions inherit from **BaseException**, and so it can be used to serve as a wildcard. \n",
    "You should use this with caution, since it is easy to mask a real programming error in this way!\n",
    "\n",
    "When an exception occurs, it may have an associated value, also known as the exception’s argument. The presence and type of the argument depend on the exception type.\n",
    "\n",
    "The *except clause* may specify a variable after the exception name. \n",
    "\n",
    "`except ExceptionType as variable:`\n",
    "\n",
    "The variable is bound to an exception instance with the arguments stored in `variable.args`."
   ]
  },
  {
   "cell_type": "code",
   "execution_count": 3,
   "id": "falling-romance",
   "metadata": {},
   "outputs": [
    {
     "name": "stdout",
     "output_type": "stream",
     "text": [
      "Enter an int in the range [0,5]7\n",
      "IndexError: list index out of range\n",
      "argument: ('list index out of range',)\n"
     ]
    }
   ],
   "source": [
    "data=[56,78,89,76,23]\n",
    "try:\n",
    "    ix=input(f\"Enter an int in the range [0,{len(data)}]\") \n",
    "    ix=int(ix)\n",
    "    print(f\"Element at position {ix} is {data[ix]}\")\n",
    "except IndexError as ex:\n",
    "    print(f\"IndexError: {ex}\")\n",
    "    print(f\"Argument: {ex.args}\")"
   ]
  },
  {
   "cell_type": "markdown",
   "id": "material-ranch",
   "metadata": {},
   "source": [
    "An except clause may omit the exception name(s), however the exception value must then be retrieved from **sys.exc_info()[1]**"
   ]
  },
  {
   "cell_type": "code",
   "execution_count": 4,
   "id": "simple-bubble",
   "metadata": {},
   "outputs": [
    {
     "name": "stdout",
     "output_type": "stream",
     "text": [
      "Enter an int in the range [0,5]6\n",
      "IndexError argument: list index out of range\n"
     ]
    }
   ],
   "source": [
    "import sys\n",
    "data=[56,78,89,76,23]\n",
    "try:\n",
    "    ix=input(f\"Enter an int in the range [0,{len(data)}]\") \n",
    "    ix=int(ix)\n",
    "    print(f\"Element at position {ix} is {data[ix]}\")\n",
    "except IndexError:\n",
    "    print(f\"IndexError argument: {sys.exc_info()[1]}\")"
   ]
  },
  {
   "cell_type": "markdown",
   "id": "noted-gregory",
   "metadata": {},
   "source": [
    "## The else clause\n",
    "\n",
    "The `try … except` statement has an optional ***else clause***, which, when present, must follow all `except` clauses. \n",
    "\n",
    "The *else clause* will be executed if the *try clause* does not raise an exception.\n"
   ]
  },
  {
   "cell_type": "code",
   "execution_count": 10,
   "id": "painted-seven",
   "metadata": {},
   "outputs": [
    {
     "name": "stdout",
     "output_type": "stream",
     "text": [
      "Enter an int in the range [0,5]3\n",
      "Element at position 3 is 76\n",
      "Your input was correct !\n"
     ]
    }
   ],
   "source": [
    "import sys\n",
    "data=[56,78,89,76,23]\n",
    "try:\n",
    "    ix=input(f\"Enter an int in the range [0,{len(data)}]\") \n",
    "    ix=int(ix)\n",
    "    print(f\"Element at position {ix} is {data[ix]}\")\n",
    "except IndexError:\n",
    "    print(f\"IndexError argument: {sys.exc_info()[1]}\")\n",
    "else:\n",
    "    print(\"Your input was correct !\")"
   ]
  },
  {
   "cell_type": "markdown",
   "id": "fatal-arena",
   "metadata": {},
   "source": [
    "## The finally clause\n",
    "\n",
    "The try statement has another optional clause which is intended to define clean-up actions that must be executed under all circumstances.\n",
    "\n",
    "If a **finally clause** is present, the `finally clause` will execute as the last task before the `try` statement completes. \n",
    "\n",
    "The `finally clause` runs whether or not the `try` statement produces an exception.\n",
    "\n",
    "**Note**: If an exception occurs during execution of the `try` clause, and the exception is not handled by an `except clause`, the exception is automatically re-raised after the `finally clause` has been executed (unless the finally clause executes a `break`, `continue` or `return` statement).\n",
    "\n",
    "In real world applications, the `finally clause` is useful for releasing external resources (such as files or network connections), regardless of whether the use of the resource was successful.\n"
   ]
  },
  {
   "cell_type": "code",
   "execution_count": 6,
   "id": "90a5fa92",
   "metadata": {},
   "outputs": [
    {
     "name": "stdout",
     "output_type": "stream",
     "text": [
      "<class 'IndexError'>\n",
      "list index out of range\n"
     ]
    },
    {
     "name": "stderr",
     "output_type": "stream",
     "text": [
      "  File \"C:\\Users\\forestierje\\AppData\\Local\\Temp\\ipykernel_41660\\58708261.py\", line 4, in <module>\n",
      "    print(d[4])\n"
     ]
    }
   ],
   "source": [
    "import sys, traceback\n",
    "try:\n",
    "    d=[5,6,7]\n",
    "    print(d[4])\n",
    "except BaseException:\n",
    "    print(sys.exc_info()[0])\n",
    "    print(sys.exc_info()[1])\n",
    "    traceback.print_tb(sys.exc_info()[2])"
   ]
  },
  {
   "cell_type": "code",
   "execution_count": 11,
   "id": "f9eddcbc",
   "metadata": {},
   "outputs": [
    {
     "name": "stdout",
     "output_type": "stream",
     "text": [
      "<class 'Exception'>\n",
      "('Error message', -1000)\n",
      "Error message\n",
      "-1000\n"
     ]
    }
   ],
   "source": [
    "import sys, traceback\n",
    "try:\n",
    "    raise Exception(\"Error message\", -1000)\n",
    "except BaseException as e:\n",
    "    print(type(e))\n",
    "    print(e)\n",
    "    print(e.args[0])\n",
    "    print(e.args[1])"
   ]
  },
  {
   "cell_type": "markdown",
   "id": "statistical-geology",
   "metadata": {},
   "source": [
    "## Raising exceptions\n",
    "\n",
    "The **raise** statement allows the programmer to force a specified exception to occur.\n",
    "\n",
    "The sole argument to `raise` indicates the exception to be raised. \n",
    "\n",
    "This must be either an exception instance or an exception class (a class that derives from `Exception`). \n",
    "\n",
    "If an exception class is passed, it will be implicitly instantiated by calling its constructor with no arguments.\n",
    "\n"
   ]
  },
  {
   "cell_type": "code",
   "execution_count": 9,
   "id": "incoming-copying",
   "metadata": {},
   "outputs": [],
   "source": [
    "class StackEmptyError(Exception):\n",
    "    pass\n",
    "\n",
    "class Stack:\n",
    "    def __init__(self):\n",
    "        self.content=[]\n",
    "    def pop():\n",
    "        if len(self.content)==0:\n",
    "            raise StackEmptyError(\"The Stack is empty, pop() failed!!\")\n",
    "        return self.content.pop()\n",
    "    # ...\n"
   ]
  },
  {
   "cell_type": "markdown",
   "id": "preliminary-control",
   "metadata": {},
   "source": [
    "### Re-raising an exception\n",
    "\n",
    "In an exception handler, you can re-raise the exception by simply calling `raise` without argument.\n",
    "\n",
    "### Exception Chaining\n",
    "The `raise` statement allows an optional **`from`** which enables **chaining exceptions**.\n"
   ]
  },
  {
   "cell_type": "code",
   "execution_count": 5,
   "id": "impaired-maine",
   "metadata": {},
   "outputs": [
    {
     "ename": "RuntimeError",
     "evalue": "Failed to open database",
     "output_type": "error",
     "traceback": [
      "\u001b[1;31m---------------------------------------------------------------------------\u001b[0m",
      "\u001b[1;31mConnectionError\u001b[0m                           Traceback (most recent call last)",
      "\u001b[1;32m<ipython-input-5-d7352cebcbcd>\u001b[0m in \u001b[0;36m<module>\u001b[1;34m\u001b[0m\n\u001b[0;32m      4\u001b[0m \u001b[1;32mtry\u001b[0m\u001b[1;33m:\u001b[0m\u001b[1;33m\u001b[0m\u001b[1;33m\u001b[0m\u001b[0m\n\u001b[1;32m----> 5\u001b[1;33m     \u001b[0mfunc\u001b[0m\u001b[1;33m(\u001b[0m\u001b[1;33m)\u001b[0m\u001b[1;33m\u001b[0m\u001b[1;33m\u001b[0m\u001b[0m\n\u001b[0m\u001b[0;32m      6\u001b[0m \u001b[1;32mexcept\u001b[0m \u001b[0mConnectionError\u001b[0m \u001b[1;32mas\u001b[0m \u001b[0mexc\u001b[0m\u001b[1;33m:\u001b[0m\u001b[1;33m\u001b[0m\u001b[1;33m\u001b[0m\u001b[0m\n",
      "\u001b[1;32m<ipython-input-5-d7352cebcbcd>\u001b[0m in \u001b[0;36mfunc\u001b[1;34m()\u001b[0m\n\u001b[0;32m      1\u001b[0m \u001b[1;32mdef\u001b[0m \u001b[0mfunc\u001b[0m\u001b[1;33m(\u001b[0m\u001b[1;33m)\u001b[0m\u001b[1;33m:\u001b[0m\u001b[1;33m\u001b[0m\u001b[1;33m\u001b[0m\u001b[0m\n\u001b[1;32m----> 2\u001b[1;33m     \u001b[1;32mraise\u001b[0m \u001b[0mConnectionError\u001b[0m\u001b[1;33m\u001b[0m\u001b[1;33m\u001b[0m\u001b[0m\n\u001b[0m\u001b[0;32m      3\u001b[0m \u001b[1;33m\u001b[0m\u001b[0m\n",
      "\u001b[1;31mConnectionError\u001b[0m: ",
      "\nThe above exception was the direct cause of the following exception:\n",
      "\u001b[1;31mRuntimeError\u001b[0m                              Traceback (most recent call last)",
      "\u001b[1;32m<ipython-input-5-d7352cebcbcd>\u001b[0m in \u001b[0;36m<module>\u001b[1;34m\u001b[0m\n\u001b[0;32m      5\u001b[0m     \u001b[0mfunc\u001b[0m\u001b[1;33m(\u001b[0m\u001b[1;33m)\u001b[0m\u001b[1;33m\u001b[0m\u001b[1;33m\u001b[0m\u001b[0m\n\u001b[0;32m      6\u001b[0m \u001b[1;32mexcept\u001b[0m \u001b[0mConnectionError\u001b[0m \u001b[1;32mas\u001b[0m \u001b[0mexc\u001b[0m\u001b[1;33m:\u001b[0m\u001b[1;33m\u001b[0m\u001b[1;33m\u001b[0m\u001b[0m\n\u001b[1;32m----> 7\u001b[1;33m     \u001b[1;32mraise\u001b[0m \u001b[0mRuntimeError\u001b[0m\u001b[1;33m(\u001b[0m\u001b[1;34m'Failed to open database'\u001b[0m\u001b[1;33m)\u001b[0m \u001b[1;32mfrom\u001b[0m \u001b[0mexc\u001b[0m\u001b[1;33m\u001b[0m\u001b[1;33m\u001b[0m\u001b[0m\n\u001b[0m",
      "\u001b[1;31mRuntimeError\u001b[0m: Failed to open database"
     ]
    }
   ],
   "source": [
    "def func():\n",
    "    raise ConnectionError\n",
    "\n",
    "try:\n",
    "    func()\n",
    "except ConnectionError as exc:\n",
    "    raise RuntimeError('Failed to open database') from exc"
   ]
  },
  {
   "cell_type": "markdown",
   "id": "prescription-plumbing",
   "metadata": {},
   "source": [
    "Exception chaining happens automatically when an exception is raised inside an `except` or `finally` clause.\n",
    "\n",
    "This can be disabled by using `from None`:"
   ]
  },
  {
   "cell_type": "code",
   "execution_count": 8,
   "id": "spoken-opposition",
   "metadata": {},
   "outputs": [
    {
     "ename": "RuntimeError",
     "evalue": "",
     "output_type": "error",
     "traceback": [
      "\u001b[1;31m---------------------------------------------------------------------------\u001b[0m",
      "\u001b[1;31mRuntimeError\u001b[0m                              Traceback (most recent call last)",
      "\u001b[1;32m<ipython-input-8-2e44d3f7f064>\u001b[0m in \u001b[0;36m<module>\u001b[1;34m\u001b[0m\n\u001b[0;32m      2\u001b[0m     \u001b[0mopen\u001b[0m\u001b[1;33m(\u001b[0m\u001b[1;34m'non existint file'\u001b[0m\u001b[1;33m)\u001b[0m\u001b[1;33m\u001b[0m\u001b[1;33m\u001b[0m\u001b[0m\n\u001b[0;32m      3\u001b[0m \u001b[1;32mexcept\u001b[0m \u001b[0mOSError\u001b[0m\u001b[1;33m:\u001b[0m\u001b[1;33m\u001b[0m\u001b[1;33m\u001b[0m\u001b[0m\n\u001b[1;32m----> 4\u001b[1;33m     \u001b[1;32mraise\u001b[0m \u001b[0mRuntimeError\u001b[0m \u001b[1;32mfrom\u001b[0m \u001b[1;32mNone\u001b[0m\u001b[1;33m\u001b[0m\u001b[1;33m\u001b[0m\u001b[0m\n\u001b[0m",
      "\u001b[1;31mRuntimeError\u001b[0m: "
     ]
    }
   ],
   "source": [
    "try:\n",
    "    open('non existing file')\n",
    "except OSError:\n",
    "    raise RuntimeError from None"
   ]
  },
  {
   "cell_type": "markdown",
   "id": "needed-mixer",
   "metadata": {},
   "source": [
    "## User-defined Exceptions\n",
    "\n",
    "Programs may define their own exceptions by creating a new exception class.\n",
    "\n",
    "Exceptions must derived (directly or indirectly) from an existing exception class (typically `Exception`).\n",
    "\n",
    "Exception classes are usually kept simple, often only offering a number of attributes that allow information about the error to be extracted by handlers for the exception.\n",
    "\n",
    "Most exceptions are defined with names that end in \"Error\", similar to the naming of the standard exceptions.\n"
   ]
  },
  {
   "cell_type": "code",
   "execution_count": null,
   "id": "competitive-benchmark",
   "metadata": {},
   "outputs": [],
   "source": [
    "class StackError(Exception):\n",
    "    pass\n",
    "class StackEmptyError(StackError):\n",
    "    pass\n",
    "class StackFullError(StackError):\n",
    "    pass"
   ]
  }
 ],
 "metadata": {
  "kernelspec": {
   "display_name": "Python 3",
   "language": "python",
   "name": "python3"
  },
  "language_info": {
   "codemirror_mode": {
    "name": "ipython",
    "version": 3
   },
   "file_extension": ".py",
   "mimetype": "text/x-python",
   "name": "python",
   "nbconvert_exporter": "python",
   "pygments_lexer": "ipython3",
   "version": "3.8.8"
  }
 },
 "nbformat": 4,
 "nbformat_minor": 5
}
