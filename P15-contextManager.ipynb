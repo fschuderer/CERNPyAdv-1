{
 "cells": [
  {
   "cell_type": "markdown",
   "id": "awful-scoop",
   "metadata": {},
   "source": [
    "# Context managers and the with statement\n",
    "\n",
    "The **`with`** statement in Python is a useful construct for properly managing external resources in your programs. \n",
    "\n",
    "It allows you to take advantage of **context managers** to automatically handle the setup and teardown phases whenever you’re dealing with external resources or with operations that require those phases.\n",
    "\n",
    "In Python, you can use two general approaches to deal with resource management. You can wrap your code in:\n",
    "\n",
    "    1) A try … finally construct\n",
    "    2) A with construct\n",
    "    \n",
    "The second approach provides a straightforward way to use setup and teardown code, but you’ll have the limitation that the **`with`** statement only works with **context managers**. "
   ]
  },
  {
   "cell_type": "markdown",
   "id": "structured-shore",
   "metadata": {},
   "source": [
    "## The try … finally Approach\n",
    "\n",
    "Working with files is probably the most common example of resource management in programming. \n",
    "\n",
    "In Python, you can use a `try … finally`statement to handle opening and closing files properly.\n",
    "\n",
    "The `finally` clause will guarantee that file is properly closed, even if an exception occurs during the call to `write()` in the `try` clause.\n",
    "\n",
    "Note that `open` should appear outside of the `try`. \n",
    "\n",
    "If `open` itself raises an exception, the file is not opened and does not need to be closed. \n",
    "\n",
    "Also, if open raises an exception its result is not assigned to `f` and it is an error to call `f.close()`."
   ]
  },
  {
   "cell_type": "code",
   "execution_count": 2,
   "id": "spoken-forward",
   "metadata": {},
   "outputs": [
    {
     "data": {
      "text/plain": [
       "13"
      ]
     },
     "execution_count": 2,
     "metadata": {},
     "output_type": "execute_result"
    }
   ],
   "source": [
    "f = open(\"hello.txt\", \"w\")\n",
    "\n",
    "try:\n",
    "    f.write(\"Hello, World!\")\n",
    "finally:\n",
    "    # Make sure to close the file after using it\n",
    "    f.close()"
   ]
  },
  {
   "cell_type": "markdown",
   "id": "designed-telling",
   "metadata": {},
   "source": [
    "The `try` block in the above example can potentially raise exceptions, such as `AttributeError` or `NameError`. \n",
    "\n",
    "You can handle those exceptions in an `except` clause like this:"
   ]
  },
  {
   "cell_type": "code",
   "execution_count": 3,
   "id": "adapted-renewal",
   "metadata": {},
   "outputs": [
    {
     "data": {
      "text/plain": [
       "13"
      ]
     },
     "execution_count": 3,
     "metadata": {},
     "output_type": "execute_result"
    }
   ],
   "source": [
    "f = open(\"hello.txt\", \"w\")\n",
    "\n",
    "try:\n",
    "    f.write(\"Hello, World!\")\n",
    "except Exception as e:\n",
    "    print(f\"An error occurred while writing to the file: {e}\")\n",
    "finally:\n",
    "    # Make sure to close the file after using it\n",
    "    f.close()"
   ]
  },
  {
   "cell_type": "markdown",
   "id": "durable-storm",
   "metadata": {},
   "source": [
    "## The with Statement\n",
    "\n",
    "The Python **`with`** statement creates a runtime context that is used to run a group of statements under the control of a **context manager**. \n",
    "\n",
    "Compared to traditional `try … finally` constructs, the `with` statement can make your code clearer, safer, and more reusable.\n",
    "\n",
    "To write a **with** statement, you need to use the following general syntax:\n",
    "\n",
    "`with expression as var:\n",
    "    # do something with var`\n",
    "\t\n",
    "The expression after `with` must return a ***context manager object***, i.e. an object that implements the ***context management protocol***. \n",
    "\n",
    "This protocol consists of two special methods:\n",
    "\n",
    "1. **`__enter__()`** is called by the with statement to enter the runtime context. `__enter__()`, typically provides the setup code\n",
    "\n",
    "2. **`__exit__()`** is called when the execution leaves the with code block. `__exit__()` typically provides the teardown logic or cleanup code, such as calling `close()` on an open file object.\n",
    "The `__exit__()` method takes 3 arguments (`exc_type`, `exc_val` , `exc_tb`). These are used to pass information about a potential exception that could happen within the `with` statements.\n",
    "When there’s an exception if the `__exit__()` method returns `True` then that means it has been handled so it is not raised. If it returns anything else then it is raised by `with`.\n",
    "\n",
    "The **`as`** specifier is optional. If you provide a ***`var`*** with **`as`**, then the value returned from the invocation of the special method `__enter__()` is bound to that variable.\n",
    "\n",
    "**Note**: Some context managers return `None` from `__enter__()` because they have no useful object to give back to the caller. In these cases, specifying a var makes no sense.\n",
    "\n",
    "Here’s how the **`with`** statement proceeds when Python runs into it:\n",
    "\n",
    "- The `with` statement calls expression to obtain a context manager.\n",
    "- The `with` statement calls `__enter__()` on the context manager and bind its return value to `var` if provided.\n",
    "- The `with` statement executes the `with` code block.\n",
    "- The `with` statement calls `__exit__()` on the context manager when the `with` code block finishes.\n",
    "\n",
    "The previous file example can be implemented like that:"
   ]
  },
  {
   "cell_type": "code",
   "execution_count": null,
   "id": "ambient-cambodia",
   "metadata": {},
   "outputs": [],
   "source": [
    "with open(\"hello.txt\", mode=\"w\") as f:\n",
    "    f.write(\"Hello, World!\")"
   ]
  },
  {
   "cell_type": "markdown",
   "id": "speaking-numbers",
   "metadata": {},
   "source": [
    "### Exceptions in with block\n",
    "\n",
    "The `with` block in the above example can potentially raise exceptions, such as `AttributeError` or `NameError`. \n",
    "\n",
    "You can handle those exceptions in an `except` clause like this:"
   ]
  },
  {
   "cell_type": "code",
   "execution_count": null,
   "id": "interested-inflation",
   "metadata": {},
   "outputs": [],
   "source": [
    "try:\n",
    "    with open(\"hello.txt\", mode=\"w\") as f :\n",
    "        f.write(\"Hello, World!\")\n",
    "except Exception as ex: \n",
    "    print(f\"Exception raised {ex}\")"
   ]
  },
  {
   "cell_type": "markdown",
   "id": "oriental-donor",
   "metadata": {},
   "source": [
    "If the error has to do with opening the file (for instance, if the file doesn't exist), it will be raised by the call to open itself, not by `__enter__()`. \n",
    "\n",
    "In this case you can catch it by separating the open call from the with block:"
   ]
  },
  {
   "cell_type": "code",
   "execution_count": null,
   "id": "ahead-thing",
   "metadata": {},
   "outputs": [],
   "source": [
    "try:\n",
    "    file = open(\"hello.txt\", mode=\"w\")\n",
    "except Exception as ex: \n",
    "    print(f\"Exception raised: {ex}\")\n",
    "else:\n",
    "    with file:\n",
    "        file.write(\"Hello, World!\")"
   ]
  },
  {
   "cell_type": "markdown",
   "id": "pretty-andrew",
   "metadata": {},
   "source": [
    "### How to deal with multiple context managers\n",
    "\n",
    "You can supply `with` with any number of context managers separated by commas:"
   ]
  },
  {
   "cell_type": "code",
   "execution_count": 3,
   "id": "opposite-kinase",
   "metadata": {},
   "outputs": [
    {
     "data": {
      "text/plain": [
       "13"
      ]
     },
     "execution_count": 3,
     "metadata": {},
     "output_type": "execute_result"
    },
    {
     "data": {
      "text/plain": [
       "'Hello, World!'"
      ]
     },
     "execution_count": 3,
     "metadata": {},
     "output_type": "execute_result"
    }
   ],
   "source": [
    "with open(\"hello.txt\", mode=\"w\") as outputF, \\\n",
    "     open(\"hello.txt\") as imputF:\n",
    "    outputF.write(\"Hello, World!\")\n",
    "    outputF.flush()\n",
    "    imputF.readline()"
   ]
  },
  {
   "cell_type": "markdown",
   "id": "headed-settle",
   "metadata": {},
   "source": [
    "**Python 3.10** introduces a new feature: using enclosing parentheses for continuation across multiple lines in context managers is now supported."
   ]
  },
  {
   "cell_type": "code",
   "execution_count": null,
   "id": "funky-optimum",
   "metadata": {},
   "outputs": [],
   "source": [
    "with (open(\"hello.txt\", mode=\"w\") as outputF, \n",
    "     open(\"hello.txt\") as inputF):\n",
    "    outputF.write(\"Hello, World!\")\n",
    "    outputF.flush()\n",
    "    inputF.readline()"
   ]
  },
  {
   "cell_type": "markdown",
   "id": "double-beijing",
   "metadata": {},
   "source": [
    "## How To Implement a Context Manager\n",
    "\n",
    "There are two ways to implement a context manager. \n",
    "\n",
    "1. The first one is defining a class with implementations for the `__enter__()` and `__exit__()` methods. \n",
    "2. The second one is by creating a generator and using the `contextlib.contextmanager` decorator.\n",
    "\n",
    "### An example using a custom class"
   ]
  },
  {
   "cell_type": "code",
   "execution_count": 2,
   "id": "italic-burton",
   "metadata": {},
   "outputs": [
    {
     "name": "stdout",
     "output_type": "stream",
     "text": [
      "__enter__ is executed\n"
     ]
    },
    {
     "data": {
      "text/plain": [
       "16"
      ]
     },
     "execution_count": 2,
     "metadata": {},
     "output_type": "execute_result"
    },
    {
     "name": "stdout",
     "output_type": "stream",
     "text": [
      "__exit__ is executed\n"
     ]
    }
   ],
   "source": [
    "class CustomFileOpen:\n",
    "    \"\"\"Custom context manager for opening files.\"\"\"\n",
    "\n",
    "    def __init__(self, filename, mode):\n",
    "        self.filename = filename\n",
    "        self.mode = mode\n",
    "\n",
    "    def __enter__(self):\n",
    "        print(\"__enter__ is executed\")\n",
    "        self.f = open(self.filename, self.mode)\n",
    "        return self.f\n",
    "\n",
    "    def __exit__(self, *args):\n",
    "        print(\"__exit__ is executed\")\n",
    "        self.f.close()\n",
    "\n",
    "with CustomFileOpen(\"file.txt\", \"w\") as f:\n",
    "    f.write(\"contents go here\")"
   ]
  },
  {
   "cell_type": "markdown",
   "id": "fluid-excellence",
   "metadata": {},
   "source": [
    "### The @contextmanager decorator \n",
    "\n",
    "Creating context managers by writing a class with `__enter__()` and `__exit__()` methods, is not difficult. \n",
    "\n",
    "However, you can achieve better brevity by defining them using **`contextlib.contextmanager`** decorator. \n",
    "\n",
    "This decorator converts a ***generator function*** into a context manager.\n",
    "\n",
    "The code within `CustomFileOpen` will run until we reach `yield`. At that point, we will go within the `with` statement. \n",
    "\n",
    "If any exceptions happen they can be handled as we are within a `try-except-finally` block.\n",
    "\n",
    "You can think of what happens in the except and finally blocks as equivalent to what happens in `__exit__()`."
   ]
  },
  {
   "cell_type": "code",
   "execution_count": null,
   "id": "alternative-white",
   "metadata": {},
   "outputs": [],
   "source": [
    "from contextlib import contextmanager\n",
    "\n",
    "@contextmanager\n",
    "def CustomFileOpen(filename, method):\n",
    "    \"\"\"Custom context manager for opening a file.\"\"\"\n",
    "\n",
    "    f = open(filename, method)\n",
    "    try:\n",
    "        yield f\n",
    "\n",
    "    finally:\n",
    "        f.close()\n",
    "        \n",
    "with CustomFileOpen(\"hello.txt\", \"w\") as f:\n",
    "    f.write(\"Hello, World!\")"
   ]
  },
  {
   "cell_type": "code",
   "execution_count": 6,
   "id": "split-tunisia",
   "metadata": {},
   "outputs": [
    {
     "name": "stdout",
     "output_type": "stream",
     "text": [
      "This function create a simple file\n",
      "The function took 0.0 seconds to run.\n",
      "None\n"
     ]
    }
   ],
   "source": [
    "from contextlib import contextmanager\n",
    "from time import time\n",
    "\n",
    "@contextmanager\n",
    "def runtime(description):\n",
    "\n",
    "    print(description)\n",
    "    start_time = time()\n",
    "    try:\n",
    "        yield\n",
    "    finally:\n",
    "        end_time = time()\n",
    "        run_time = end_time - start_time\n",
    "        print(f\"The function took {run_time} seconds to run.\")\n",
    "        \n",
    "@runtime(\"This function create a simple file\")\n",
    "def custom_file_write(filename, mode, content):\n",
    "    with open(filename, mode) as f:\n",
    "        f.write(content)\n",
    "        \n",
    "print(custom_file_write(\"file.txt\", \"w\", \"Hello World\"))"
   ]
  },
  {
   "cell_type": "code",
   "execution_count": null,
   "id": "victorian-river",
   "metadata": {},
   "outputs": [],
   "source": []
  }
 ],
 "metadata": {
  "kernelspec": {
   "display_name": "Python 3",
   "language": "python",
   "name": "python3"
  },
  "language_info": {
   "codemirror_mode": {
    "name": "ipython",
    "version": 3
   },
   "file_extension": ".py",
   "mimetype": "text/x-python",
   "name": "python",
   "nbconvert_exporter": "python",
   "pygments_lexer": "ipython3",
   "version": "3.8.8"
  }
 },
 "nbformat": 4,
 "nbformat_minor": 5
}
