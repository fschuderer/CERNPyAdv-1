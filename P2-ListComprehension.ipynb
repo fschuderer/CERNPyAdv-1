{
 "cells": [
  {
   "cell_type": "markdown",
   "id": "false-wrong",
   "metadata": {},
   "source": [
    "# List comprehension\n",
    "## 3 ways to create a new list\n",
    "### Using a loop\n"
   ]
  },
  {
   "cell_type": "code",
   "execution_count": 1,
   "id": "entitled-victor",
   "metadata": {},
   "outputs": [
    {
     "data": {
      "text/plain": [
       "[12167, 91125, 474552, 512, -8, 262144, -1728, -512]"
      ]
     },
     "execution_count": 1,
     "metadata": {},
     "output_type": "execute_result"
    }
   ],
   "source": [
    "data=(23,45,78,8,-2,64, -12, -8)\n",
    "pow3=[]\n",
    "for e in data:\n",
    "    pow3.append(e**3)\n",
    "pow3"
   ]
  },
  {
   "cell_type": "markdown",
   "id": "creative-hello",
   "metadata": {},
   "source": [
    "### Using map() and list()"
   ]
  },
  {
   "cell_type": "code",
   "execution_count": 2,
   "id": "durable-hearts",
   "metadata": {},
   "outputs": [
    {
     "data": {
      "text/plain": [
       "[12167, 91125, 474552, 512, -8, 262144, -1728, -512]"
      ]
     },
     "execution_count": 2,
     "metadata": {},
     "output_type": "execute_result"
    }
   ],
   "source": [
    "data=(23,45,78,8,-2,64, -12, -8)\n",
    "pow3=list(map(lambda e: e**3, data))\n",
    "pow3"
   ]
  },
  {
   "cell_type": "markdown",
   "id": "requested-trick",
   "metadata": {},
   "source": [
    "### Using a list comprehension\n",
    "\n",
    "The syntax is: `new_list = [expression for variable in iterable]`"
   ]
  },
  {
   "cell_type": "code",
   "execution_count": 5,
   "id": "caring-feedback",
   "metadata": {},
   "outputs": [
    {
     "data": {
      "text/plain": [
       "[12167, 91125, 474552, 512, -8, 262144, -1728, -512]"
      ]
     },
     "execution_count": 5,
     "metadata": {},
     "output_type": "execute_result"
    }
   ],
   "source": [
    "data=(23,45,78,8,-2,64, 45, -12, -8, 78, 45)\n",
    "pow3=[e**3 for e in data]\n",
    "pow3"
   ]
  },
  {
   "cell_type": "markdown",
   "id": "exotic-boston",
   "metadata": {},
   "source": [
    "## Set and Dictionary Comprehensions\n",
    "\n",
    "A **set comprehension** is almost exactly the same as a list comprehension in Python. The difference is that set comprehensions returns a set (this is a way to make sure the output contains no duplicates). \n",
    "You can create a set comprehension by using curly braces instead of brackets:"
   ]
  },
  {
   "cell_type": "code",
   "execution_count": 15,
   "id": "latter-executive",
   "metadata": {},
   "outputs": [
    {
     "data": {
      "text/plain": [
       "{-1728, -512, -8, 512, 12167, 91125, 262144, 474552}"
      ]
     },
     "execution_count": 15,
     "metadata": {},
     "output_type": "execute_result"
    },
    {
     "data": {
      "text/plain": [
       "8"
      ]
     },
     "execution_count": 15,
     "metadata": {},
     "output_type": "execute_result"
    }
   ],
   "source": [
    "data=(23,45,78,8,-2,64, 45, -12, -8, 78, 45)\n",
    "pow3={e**3 for e in data}\n",
    "pow3"
   ]
  },
  {
   "cell_type": "markdown",
   "id": "acquired-eligibility",
   "metadata": {},
   "source": [
    "**Dictionary comprehensions** are similar, with the additional requirement of defining a key:"
   ]
  },
  {
   "cell_type": "code",
   "execution_count": 17,
   "id": "directed-tablet",
   "metadata": {},
   "outputs": [
    {
     "data": {
      "text/plain": [
       "{23: 12167,\n",
       " 45: 91125,\n",
       " 78: 474552,\n",
       " 8: 512,\n",
       " -2: -8,\n",
       " 64: 262144,\n",
       " -12: -1728,\n",
       " -8: -512}"
      ]
     },
     "execution_count": 17,
     "metadata": {},
     "output_type": "execute_result"
    }
   ],
   "source": [
    "data=(23,45,78,8,-2,64, 45, -12, -8, 78, 45)\n",
    "pow3={e:e**3 for e in data}\n",
    "pow3"
   ]
  },
  {
   "cell_type": "markdown",
   "id": "operational-scheme",
   "metadata": {},
   "source": [
    "### Generator expression\n",
    "\n",
    "*List comprehension* in Python returns a *list*, `map()` returns an ***iterator***.\n",
    "\n",
    "If needed you can transform a *list comprehension* into a ***generator expression***. Like `map()`, the generator expression returns an iterator.\n",
    "\n",
    "The syntax is: `(expression for variable in iterable)`\n",
    "or simply: `expression for variable in iterable`\n",
    "\n",
    "A list comprehension will create the entire list in memory first while the generator expression will create the items on the fly, so you are able to use it for very large (and also infinite!) sequences."
   ]
  },
  {
   "cell_type": "code",
   "execution_count": 8,
   "id": "bigger-input",
   "metadata": {},
   "outputs": [
    {
     "data": {
      "text/plain": [
       "333283335000"
      ]
     },
     "execution_count": 8,
     "metadata": {},
     "output_type": "execute_result"
    },
    {
     "data": {
      "text/plain": [
       "333283335000"
      ]
     },
     "execution_count": 8,
     "metadata": {},
     "output_type": "execute_result"
    }
   ],
   "source": [
    "# A list of the first 10000 ints is created, then they are added\n",
    "sum([i * i for i in range(10000)])\n",
    "\n",
    "# The first 10000 ints are created on the fly, and added -> less memory used\n",
    "sum(i * i for i in range(10000)) "
   ]
  },
  {
   "cell_type": "markdown",
   "id": "false-wholesale",
   "metadata": {},
   "source": [
    "## Nested comprehensions\n",
    "\n",
    "List (set, ditc) comprehension can be nested.\n",
    "\n",
    "For example to populate a dict of list:\n"
   ]
  },
  {
   "cell_type": "code",
   "execution_count": 9,
   "id": "racial-steps",
   "metadata": {},
   "outputs": [
    {
     "data": {
      "text/plain": [
       "{'Lausanne': [0, 0, 0, 0, 0, 0, 0],\n",
       " 'Nyon': [0, 0, 0, 0, 0, 0, 0],\n",
       " 'Geneva': [0, 0, 0, 0, 0, 0, 0],\n",
       " 'Gland': [0, 0, 0, 0, 0, 0, 0],\n",
       " 'Aubonne': [0, 0, 0, 0, 0, 0, 0]}"
      ]
     },
     "execution_count": 9,
     "metadata": {},
     "output_type": "execute_result"
    }
   ],
   "source": [
    "cities = ['Lausanne', 'Nyon', 'Geneva', 'Gland', 'Aubonne']\n",
    "temps = {city: [0 for _ in range(7)] for city in cities}\n",
    "temps"
   ]
  },
  {
   "cell_type": "markdown",
   "id": "handy-theology",
   "metadata": {},
   "source": [
    "Or to create a (4x5) matrix of random ints between 1 and 10:"
   ]
  },
  {
   "cell_type": "code",
   "execution_count": 12,
   "id": "rapid-cliff",
   "metadata": {},
   "outputs": [
    {
     "data": {
      "text/plain": [
       "[[2, 2, 10, 8, 1], [10, 10, 9, 8, 9], [5, 2, 10, 10, 10], [2, 3, 5, 3, 2]]"
      ]
     },
     "execution_count": 12,
     "metadata": {},
     "output_type": "execute_result"
    }
   ],
   "source": [
    "from random import randint\n",
    "matrix = [[randint(1,10) for i in range(5)] for _ in range(4)]\n",
    "matrix"
   ]
  },
  {
   "cell_type": "code",
   "execution_count": 13,
   "id": "verified-timer",
   "metadata": {},
   "outputs": [
    {
     "data": {
      "text/plain": [
       "[1, 4, 2, 1, 2, 10, 3, 7, 9, 7, 7, 10, 6, 5, 7, 9, 6, 9, 5, 4]"
      ]
     },
     "execution_count": 13,
     "metadata": {},
     "output_type": "execute_result"
    }
   ],
   "source": [
    "from random import randint\n",
    "matrix = [randint(1,10) for i in range(5) for _ in range(4)]\n",
    "matrix"
   ]
  },
  {
   "cell_type": "code",
   "execution_count": null,
   "id": "breathing-thickness",
   "metadata": {},
   "outputs": [],
   "source": []
  }
 ],
 "metadata": {
  "kernelspec": {
   "display_name": "Python 3",
   "language": "python",
   "name": "python3"
  },
  "language_info": {
   "codemirror_mode": {
    "name": "ipython",
    "version": 3
   },
   "file_extension": ".py",
   "mimetype": "text/x-python",
   "name": "python",
   "nbconvert_exporter": "python",
   "pygments_lexer": "ipython3",
   "version": "3.8.8"
  }
 },
 "nbformat": 4,
 "nbformat_minor": 5
}
