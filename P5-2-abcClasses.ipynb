{
 "cells": [
  {
   "cell_type": "markdown",
   "id": "91baece1",
   "metadata": {},
   "source": [
    "# Abstract classes\n",
    "\n",
    "## ABC and the abc module\n",
    "\n",
    "**Abstract classes** are classes that contain one or more **abstract methods**. \n",
    "\n",
    "An abstract method is a method that is declared, but contains no implementation. \n",
    "\n",
    "Abstract classes cannot be instantiated, and require subclasses to provide implementations for the abstract methods.Abstract Classes\n",
    "\n",
    "The **`abc`** (abstract base class) module is necessary to define an abstract class.\n",
    "\n",
    "Abstract classes inherit from the class **`ABC`**\n",
    "\n",
    "Abstract methods are decorated with the decorator **`@abstractmethod`**\n"
   ]
  },
  {
   "cell_type": "code",
   "execution_count": 5,
   "id": "48519fff",
   "metadata": {},
   "outputs": [
    {
     "ename": "TypeError",
     "evalue": "Can't instantiate abstract class AbstractClassExample with abstract methods pow",
     "output_type": "error",
     "traceback": [
      "\u001b[1;31m---------------------------------------------------------------------------\u001b[0m",
      "\u001b[1;31mTypeError\u001b[0m                                 Traceback (most recent call last)",
      "\u001b[1;32m<ipython-input-5-4cc811984a38>\u001b[0m in \u001b[0;36m<module>\u001b[1;34m\u001b[0m\n\u001b[0;32m     11\u001b[0m         \u001b[1;32mreturn\u001b[0m \u001b[0mself\u001b[0m\u001b[1;33m.\u001b[0m\u001b[0mvalue\u001b[0m \u001b[1;33m**\u001b[0m \u001b[1;36m2\u001b[0m\u001b[1;33m\u001b[0m\u001b[1;33m\u001b[0m\u001b[0m\n\u001b[0;32m     12\u001b[0m \u001b[1;33m\u001b[0m\u001b[0m\n\u001b[1;32m---> 13\u001b[1;33m \u001b[0mobj\u001b[0m\u001b[1;33m=\u001b[0m\u001b[0mAbstractClassExample\u001b[0m\u001b[1;33m(\u001b[0m\u001b[1;36m10\u001b[0m\u001b[1;33m)\u001b[0m  \u001b[1;31m# Error: Can't instantiate an abstract class\u001b[0m\u001b[1;33m\u001b[0m\u001b[1;33m\u001b[0m\u001b[0m\n\u001b[0m",
      "\u001b[1;31mTypeError\u001b[0m: Can't instantiate abstract class AbstractClassExample with abstract methods pow"
     ]
    }
   ],
   "source": [
    "from abc import ABC, abstractmethod\n",
    " \n",
    "class AbstractClassExample(ABC):\n",
    "    \n",
    "    def __init__(self, value):\n",
    "        self.value = value\n",
    "        super().__init__()\n",
    "    \n",
    "    @abstractmethod\n",
    "    def pow(self):\n",
    "        pass\n",
    "    \n",
    "obj=AbstractClassExample(10)  # Error: Can't instantiate an abstract class"
   ]
  },
  {
   "cell_type": "markdown",
   "id": "e2a3bd16",
   "metadata": {},
   "source": [
    "A class that is derived from an abstract class cannot be instantiated unless all of its inherited abstract methods are overridden.\n",
    "\n",
    "When an abstract method has parameters, the overriden method, must contain all the parameters as well. \n",
    "The subclass' implementation can also add extra parameters if required"
   ]
  },
  {
   "cell_type": "code",
   "execution_count": 7,
   "id": "6e9250d9",
   "metadata": {},
   "outputs": [
    {
     "data": {
      "text/plain": [
       "1028"
      ]
     },
     "execution_count": 7,
     "metadata": {},
     "output_type": "execute_result"
    }
   ],
   "source": [
    "class Pow10(AbstractClassExample):\n",
    "\n",
    "    def pow(self):\n",
    "        return self.value**10 +super().pow()\n",
    "    \n",
    "obj = Pow10(2)\n",
    "obj.pow()"
   ]
  },
  {
   "cell_type": "markdown",
   "id": "7f805a9f",
   "metadata": {},
   "source": [
    "## Abstract methods default implementation\n",
    "\n",
    "An abstract method can have an implementation in the abstract class.\n",
    "\n",
    "But even if they are implemented, subclasses will be forced to override the abstract methods. \n",
    "\n",
    "Like in other cases, the abstract method can be invoked with the **`super()`** call mechanism. \n",
    "\n",
    "This enables providing some basic functionality in the abstract method, which can be enriched by the subclass implementation."
   ]
  },
  {
   "cell_type": "code",
   "execution_count": 10,
   "id": "c95cf281",
   "metadata": {},
   "outputs": [
    {
     "data": {
      "text/plain": [
       "1024"
      ]
     },
     "execution_count": 10,
     "metadata": {},
     "output_type": "execute_result"
    }
   ],
   "source": [
    "from abc import ABC, abstractmethod\n",
    " \n",
    "class AbstractClassExample(ABC):\n",
    "    \n",
    "    def __init__(self, value):\n",
    "        self.value = value\n",
    "        super().__init__()\n",
    "    \n",
    "    @abstractmethod\n",
    "    def pow(self):\n",
    "        return self.value**2\n",
    "\n",
    "class Pow10(AbstractClassExample):\n",
    "\n",
    "    def pow(self):\n",
    "        return super().pow()**5 \n",
    "    \n",
    "obj = Pow10(2)\n",
    "obj.pow()"
   ]
  },
  {
   "cell_type": "markdown",
   "id": "afdf2043",
   "metadata": {},
   "source": [
    "## Writing (abstract) properties\n",
    "\n",
    "We can also create **abstract properties** and force subclasses to implement those properties. \n",
    "\n",
    "This could be done by using the **`@property`** decorator along with **`@absctractmethod`**."
   ]
  },
  {
   "cell_type": "code",
   "execution_count": 1,
   "id": "706ba0b2",
   "metadata": {},
   "outputs": [
    {
     "data": {
      "text/plain": [
       "34"
      ]
     },
     "execution_count": 1,
     "metadata": {},
     "output_type": "execute_result"
    }
   ],
   "source": [
    "from abc import ABC, abstractmethod\n",
    "\n",
    "\n",
    "class A(ABC):\n",
    "    def __init__(self):\n",
    "        super().__init__()\n",
    "\n",
    "    @property\n",
    "    @abstractmethod\n",
    "    def value(self):\n",
    "        pass\n",
    "\n",
    "class B(A):\n",
    "    def __init__(self, val):\n",
    "        super().__init__()\n",
    "        self.__value=val\n",
    "    @property\n",
    "    def value(self):\n",
    "        return self.__value\n",
    "    @value.setter\n",
    "    def value(self,val):\n",
    "        self.__value=val\n",
    "        \n",
    "obj=B(10)\n",
    "obj.value=34\n",
    "obj.value"
   ]
  },
  {
   "cell_type": "code",
   "execution_count": null,
   "id": "bc1701a6",
   "metadata": {},
   "outputs": [],
   "source": []
  }
 ],
 "metadata": {
  "kernelspec": {
   "display_name": "Python 3",
   "language": "python",
   "name": "python3"
  },
  "language_info": {
   "codemirror_mode": {
    "name": "ipython",
    "version": 3
   },
   "file_extension": ".py",
   "mimetype": "text/x-python",
   "name": "python",
   "nbconvert_exporter": "python",
   "pygments_lexer": "ipython3",
   "version": "3.8.8"
  }
 },
 "nbformat": 4,
 "nbformat_minor": 5
}
