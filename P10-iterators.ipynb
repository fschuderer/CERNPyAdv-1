{
 "cells": [
  {
   "cell_type": "markdown",
   "id": "07601fbe",
   "metadata": {},
   "source": [
    "# Iterators\n",
    "\n",
    "## Iterable objects and iterators\n",
    "\n",
    "You have probably noticed that most container objects can be looped over using a `for` statement. \n",
    "\n",
    "The `for` loop works with all **iterable** object (an object which one can iterate over)."
   ]
  },
  {
   "cell_type": "code",
   "execution_count": 2,
   "id": "319dd2a8",
   "metadata": {},
   "outputs": [
    {
     "name": "stdout",
     "output_type": "stream",
     "text": [
      "1\n",
      "2\n",
      "3\n",
      "----------------------------------------------------------------------------------------------------\n",
      "{\n",
      "\n",
      " \"cells\": [\n",
      "\n",
      "  {\n",
      "\n",
      "   \"cell_type\": \"markdown\",\n",
      "\n",
      "   \"id\": \"07601fbe\",\n",
      "\n"
     ]
    }
   ],
   "source": [
    "for element in [1, 2, 3]:\n",
    "    print(element)\n",
    "    \n",
    "print(\"-\"*100)\n",
    "\n",
    "with open(\"./P10-iterators.ipynb\") as f:\n",
    "    for line in f:\n",
    "        print(line)\n",
    "        if \"id\" in line:\n",
    "            break\n",
    "        "
   ]
  },
  {
   "cell_type": "markdown",
   "id": "a22f5d20",
   "metadata": {},
   "source": [
    "An **iterable** object returns an **iterator** when passed to the **iter()** function. \n",
    "\n",
    "An **iterator** is an object, which is used to iterate over an *iterable* object using it's **\\_\\_next_\\_()** method.\n",
    "\n",
    "The **\\_\\_next_\\_()** method is invoked, behind the scenes, via the function **next()** (the function `next()` itself is usually invoked automatically).\n",
    "\n",
    "The following `for` loop:"
   ]
  },
  {
   "cell_type": "code",
   "execution_count": 83,
   "id": "e9195f49",
   "metadata": {},
   "outputs": [
    {
     "name": "stdout",
     "output_type": "stream",
     "text": [
      "2 3 4 "
     ]
    }
   ],
   "source": [
    "d=[2,3,4]\n",
    "for e in d:\n",
    "    print(e, end=\" \")"
   ]
  },
  {
   "cell_type": "markdown",
   "id": "d2e77bb6",
   "metadata": {},
   "source": [
    "Is equivalent to:"
   ]
  },
  {
   "cell_type": "code",
   "execution_count": 84,
   "id": "b74204f6",
   "metadata": {},
   "outputs": [
    {
     "name": "stdout",
     "output_type": "stream",
     "text": [
      "2 3 4 "
     ]
    }
   ],
   "source": [
    "d=[2,3,4]\n",
    "\n",
    "d_iterator=iter(d) #d_iterator=d.__iter__()\n",
    "while True:\n",
    "    try:\n",
    "        e=next(d_iterator)# e=d_iterator.__next__()\n",
    "        print(e, end=\" \")\n",
    "    except StopIteration:\n",
    "        break\n",
    "\n",
    "# sum(), map(), min(), max(), filter()"
   ]
  },
  {
   "cell_type": "markdown",
   "id": "a430c376",
   "metadata": {},
   "source": [
    "Behind the scenes, the `for` statement calls the function **iter()** on the *iterable* object. \n",
    "\n",
    "The function *iter()* returns an **iterator** object that defines the method **next()**. The method *next()* accesses elements in the container one at a time.\n",
    "\n",
    "When there are no more elements, *next()* raises a **StopIteration** exception which tells the `for` loop to terminate.\n",
    "\n",
    "## The iterator protocol\n",
    "\n",
    "To add an iterator to a class, you only have to define a **\\_\\_iter_\\_()** method. \n",
    "\n",
    "Behind the scenes, the *iter()* function calls the *\\_\\_iter_\\_()* method on the given object.\n",
    "\n",
    "The *\\_\\_iter_\\_()* method should return an object with a **\\_\\_next_\\_()** method.\n",
    "\n",
    "The *\\_\\_next_\\_()* method is the one invoked by *next()*.\n",
    "\n",
    "**Note**: If the class defines *\\_\\_next_\\_()*, then *\\_\\_iter_\\_()* can just return *self*:\n"
   ]
  },
  {
   "cell_type": "code",
   "execution_count": 9,
   "id": "a22bd87f",
   "metadata": {},
   "outputs": [
    {
     "name": "stdout",
     "output_type": "stream",
     "text": [
      "m\n",
      "a\n",
      "p\n",
      "s\n",
      "----------------------------------------\n",
      "9\n",
      "7\n",
      "5\n",
      "3\n",
      "1\n",
      "----------------------------------------\n",
      "9\n",
      "7\n",
      "5\n",
      "3\n",
      "1\n"
     ]
    }
   ],
   "source": [
    "class Reverse:\n",
    "    \"Iterator for looping over a sequence backwards\"\n",
    "    def __init__(self, data):\n",
    "        self.data = data\n",
    "    def __iter__(self):\n",
    "        self.index = len(self.data)\n",
    "        return self\n",
    "    def __next__(self):\n",
    "        if self.index == 0:\n",
    "            raise StopIteration\n",
    "        self.index = self.index - 1\n",
    "        return self.data[self.index]\n",
    "    \n",
    "for char in Reverse('spam'):\n",
    "    print(char,sep='')\n",
    "print(\"-\"*40)\n",
    "\n",
    "d=Reverse([1,3,5,7,9])\n",
    "for i in d:\n",
    "    print(i,sep='')\n",
    "print(\"-\"*40)\n",
    "for i in d:\n",
    "    print(i,sep='')"
   ]
  },
  {
   "cell_type": "markdown",
   "id": "f58bbe21",
   "metadata": {},
   "source": [
    "## The itertools module\n",
    "\n",
    "The **itertools** module, in the standard library, provides lot of interesting tools to work with iterators.\n",
    "\n",
    "Here are some examples (this is not an exhaustive list of all available functions).\n",
    "\n",
    "**chain()** – chains multiple iterators together.\n"
   ]
  },
  {
   "cell_type": "code",
   "execution_count": 14,
   "id": "2ab97fd7",
   "metadata": {},
   "outputs": [
    {
     "name": "stdout",
     "output_type": "stream",
     "text": [
      "1 2 3 4 5 6 \n",
      "1 2 3 4 5 6 "
     ]
    }
   ],
   "source": [
    "import itertools\n",
    "\n",
    "d1=[1, 2, 3]\n",
    "d2=[4, 5, 6]\n",
    "it1 = iter(d1)\n",
    "it2 = iter(d2)\n",
    "for e in itertools.chain(it1, it2):\n",
    "    print(e, end=\" \")\n",
    "# or more directly:\n",
    "print()\n",
    "for e in itertools.chain(d1, d2):\n",
    "    print(e, end=\" \")"
   ]
  },
  {
   "cell_type": "markdown",
   "id": "aeb26492",
   "metadata": {},
   "source": [
    "**zip_longest()** – this function accepts any number of iterables as arguments and a `fillvalue` keyword argument that defaults to `None`. This function returns an iterator that aggregates elements from each of the iterables. If the iterables are of uneven length, missing values are filled-in with `fillvalue`."
   ]
  },
  {
   "cell_type": "code",
   "execution_count": 87,
   "id": "66513ae6",
   "metadata": {},
   "outputs": [
    {
     "name": "stdout",
     "output_type": "stream",
     "text": [
      "zip_longest:\n",
      "(1, 'a')(2, 'b')(3, 'c')(4, None)(5, None)\n",
      "versus zip:\n",
      "(1, 'a')(2, 'b')(3, 'c')"
     ]
    }
   ],
   "source": [
    "x = [1, 2, 3, 4, 5]\n",
    "y = ['a', 'b', 'c']\n",
    "print(\"zip_longest:\")\n",
    "for e in itertools.zip_longest(x, y):\n",
    "    print(e, end=\"\")\n",
    "print(\"\\nversus zip:\")\n",
    "for e in zip(x, y):\n",
    "    print(e, end=\"\")"
   ]
  },
  {
   "cell_type": "code",
   "execution_count": 12,
   "id": "0b3f4cb9",
   "metadata": {},
   "outputs": [
    {
     "name": "stdout",
     "output_type": "stream",
     "text": [
      "{'ciel': 'sky', 'mer': 'sea', 'terre': 'earth'}\n",
      "{'sky': 'ciel', 'sea': 'mer', 'earth': 'terre'}\n"
     ]
    }
   ],
   "source": [
    "fr=[\"ciel\", \"mer\", \"terre\"]\n",
    "en=[\"sky\", \"sea\", 'earth']\n",
    "fr_en=dict(zip(fr,en))\n",
    "print(fr_en)\n",
    "en_fr=dict(zip(en,fr))\n",
    "print(en_fr)"
   ]
  },
  {
   "cell_type": "markdown",
   "id": "ad6f1773",
   "metadata": {},
   "source": [
    "**combinations()** –  this function takes two arguments, an iterable *inputs* and a positive integer *n*, and produces an iterator over tuples of all combinations of *n* elements in *inputs*."
   ]
  },
  {
   "cell_type": "code",
   "execution_count": 17,
   "id": "77768b57",
   "metadata": {},
   "outputs": [
    {
     "name": "stdout",
     "output_type": "stream",
     "text": [
      "(7, 8)(7, 9)(7, 10)(7, 'jack')(7, 'queen')(7, 'king')(7, 'ace')(8, 9)(8, 10)(8, 'jack')(8, 'queen')(8, 'king')(8, 'ace')(9, 10)(9, 'jack')(9, 'queen')(9, 'king')(9, 'ace')(10, 'jack')(10, 'queen')(10, 'king')(10, 'ace')('jack', 'queen')('jack', 'king')('jack', 'ace')('queen', 'king')('queen', 'ace')('king', 'ace')"
     ]
    }
   ],
   "source": [
    "cards=[7,8,9,10,\"jack\",\"queen\", \"king\", \"ace\"]\n",
    "for e in itertools.combinations(cards, 2):\n",
    "    print(e, end=\"\")"
   ]
  },
  {
   "cell_type": "markdown",
   "id": "4fa3beeb",
   "metadata": {},
   "source": [
    "**combinations_with_replacement()** –  this function returns successive n-length combinations of elements in the iterable allowing individual elements to have successive repeats."
   ]
  },
  {
   "cell_type": "code",
   "execution_count": 18,
   "id": "36b7c2f5",
   "metadata": {},
   "outputs": [
    {
     "name": "stdout",
     "output_type": "stream",
     "text": [
      "(7, 7)(7, 8)(7, 9)(7, 10)(7, 'jack')(7, 'queen')(7, 'king')(7, 'ace')(8, 8)(8, 9)(8, 10)(8, 'jack')(8, 'queen')(8, 'king')(8, 'ace')(9, 9)(9, 10)(9, 'jack')(9, 'queen')(9, 'king')(9, 'ace')(10, 10)(10, 'jack')(10, 'queen')(10, 'king')(10, 'ace')('jack', 'jack')('jack', 'queen')('jack', 'king')('jack', 'ace')('queen', 'queen')('queen', 'king')('queen', 'ace')('king', 'king')('king', 'ace')('ace', 'ace')"
     ]
    }
   ],
   "source": [
    "cards=[7,8,9,10,\"jack\",\"queen\", \"king\", \"ace\"]\n",
    "for e in itertools.combinations_with_replacement(cards, 2):\n",
    "    print(e, end=\"\")"
   ]
  },
  {
   "cell_type": "markdown",
   "id": "37972918",
   "metadata": {},
   "source": [
    "**permutations()** –  this function returns successive n-length permutations of elements in the iterable."
   ]
  },
  {
   "cell_type": "code",
   "execution_count": 19,
   "id": "988f101b",
   "metadata": {},
   "outputs": [
    {
     "name": "stdout",
     "output_type": "stream",
     "text": [
      "(7, 8)(7, 9)(7, 10)(7, 'jack')(7, 'queen')(7, 'king')(7, 'ace')(8, 7)(8, 9)(8, 10)(8, 'jack')(8, 'queen')(8, 'king')(8, 'ace')(9, 7)(9, 8)(9, 10)(9, 'jack')(9, 'queen')(9, 'king')(9, 'ace')(10, 7)(10, 8)(10, 9)(10, 'jack')(10, 'queen')(10, 'king')(10, 'ace')('jack', 7)('jack', 8)('jack', 9)('jack', 10)('jack', 'queen')('jack', 'king')('jack', 'ace')('queen', 7)('queen', 8)('queen', 9)('queen', 10)('queen', 'jack')('queen', 'king')('queen', 'ace')('king', 7)('king', 8)('king', 9)('king', 10)('king', 'jack')('king', 'queen')('king', 'ace')('ace', 7)('ace', 8)('ace', 9)('ace', 10)('ace', 'jack')('ace', 'queen')('ace', 'king')"
     ]
    }
   ],
   "source": [
    "cards=[7,8,9,10,\"jack\",\"queen\", \"king\", \"ace\"]\n",
    "for e in itertools.permutations(cards, 2):\n",
    "    print(e, end=\"\")"
   ]
  },
  {
   "cell_type": "markdown",
   "id": "29fac9e5",
   "metadata": {},
   "source": [
    "**counts()** –  this function counts, starting by default with the number 0. You can start counting from any number you like by setting the `start` keyword argument (defaults is 0). You can even set a `step` keyword argument to determine the interval between numbers returned (defaults is 1).\n",
    "In some ways, `count()` is similar to the built-in `range()` function, but `count()` always returns an infinite sequence."
   ]
  },
  {
   "cell_type": "code",
   "execution_count": 21,
   "id": "09eb8d21",
   "metadata": {},
   "outputs": [
    {
     "data": {
      "text/plain": [
       "[(1, 'a'), (3, 'b'), (5, 'c'), (7, 'd')]"
      ]
     },
     "execution_count": 21,
     "metadata": {},
     "output_type": "execute_result"
    }
   ],
   "source": [
    "list(zip(itertools.count(start=1, step=2), ['a', 'b', 'c', 'd']))"
   ]
  },
  {
   "cell_type": "markdown",
   "id": "4f16c783",
   "metadata": {},
   "source": [
    "**repeat()** –  this function returns, repetitively, the same value. You can set a stopping point by passing a positive integer as a second argument."
   ]
  },
  {
   "cell_type": "code",
   "execution_count": 69,
   "id": "68c0bcff",
   "metadata": {},
   "outputs": [
    {
     "name": "stdout",
     "output_type": "stream",
     "text": [
      "[(10, 'a'), (10, 'b'), (10, 'c')]\n",
      "1 1 1 1 1 "
     ]
    }
   ],
   "source": [
    "print(list(zip(itertools.repeat(10), ['a', 'b', 'c'])))\n",
    "                                \n",
    "for e in itertools.repeat(1, 5):\n",
    "    print(e, end=\" \")"
   ]
  },
  {
   "cell_type": "markdown",
   "id": "c31cd049",
   "metadata": {},
   "source": [
    "**cycle()** –  This function takes an iterable inputs as an argument and returns an infinite iterator over the values in inputs that returns to the beginning once the end of inputs is reached. "
   ]
  },
  {
   "cell_type": "code",
   "execution_count": 70,
   "id": "f6e8f904",
   "metadata": {},
   "outputs": [
    {
     "name": "stdout",
     "output_type": "stream",
     "text": [
      "[(0, 'a'), (1, 'b'), (2, 'c'), (0, 'd'), (1, 'e'), (2, 'f')]\n"
     ]
    }
   ],
   "source": [
    "print(list(zip(itertools.cycle((0,1,2)), ['a', 'b', 'c', 'd', 'e', 'f'])))"
   ]
  },
  {
   "cell_type": "markdown",
   "id": "74b88f0b",
   "metadata": {},
   "source": [
    "**accumulate()** – This function takes two arguments, an iterable *inputs* and a binary function *func* (a function with 2 arguments), and returns an iterator over accumulated results of applying *func* to elements of *inputs*."
   ]
  },
  {
   "cell_type": "code",
   "execution_count": 71,
   "id": "8cffb678",
   "metadata": {},
   "outputs": [
    {
     "data": {
      "text/plain": [
       "[1, 3, 6, 10, 15]"
      ]
     },
     "execution_count": 71,
     "metadata": {},
     "output_type": "execute_result"
    }
   ],
   "source": [
    "import operator #numpy.cumsum(array)\n",
    "list(itertools.accumulate([1, 2, 3, 4, 5], operator.add))"
   ]
  },
  {
   "cell_type": "markdown",
   "id": "9fa543c4",
   "metadata": {},
   "source": [
    "**product()** – This function takes any number of iterables as arguments and returns an iterator over tuples in the Cartesian product."
   ]
  },
  {
   "cell_type": "code",
   "execution_count": 72,
   "id": "8bc8bea2",
   "metadata": {},
   "outputs": [
    {
     "name": "stdout",
     "output_type": "stream",
     "text": [
      "(1, 10) (1, 20) (1, 30) (2, 10) (2, 20) (2, 30) "
     ]
    }
   ],
   "source": [
    "for e in itertools.product([1, 2], [10,20,30]):\n",
    "    print(e, end=\" \")"
   ]
  },
  {
   "cell_type": "markdown",
   "id": "5507a0fc",
   "metadata": {},
   "source": [
    "**islice()** – This function function works much the same way as slicing a sequence. You pass it an iterable, a starting, and stopping point, and, it returns a slice. You can optionally include a step value, as well. The biggest difference with a real slice is that `islice()` returns an iterator."
   ]
  },
  {
   "cell_type": "code",
   "execution_count": 23,
   "id": "ec51dbed",
   "metadata": {},
   "outputs": [
    {
     "name": "stdout",
     "output_type": "stream",
     "text": [
      "an-P\n",
      "a n - P "
     ]
    }
   ],
   "source": [
    "name=\"Jean-Philippe\"\n",
    "print(name[2:6])\n",
    "\n",
    "for c in itertools.islice(\"Jean-Philippe\", 2, 6):\n",
    "    print(c, end=\" \")"
   ]
  },
  {
   "cell_type": "markdown",
   "id": "8199d8ca",
   "metadata": {},
   "source": [
    "**filterfalse()** – This function takes two arguments: a function that returns True or False (called a predicate), and an iterable inputs. It returns an iterator over the elements in inputs for which the predicate returns False."
   ]
  },
  {
   "cell_type": "code",
   "execution_count": 75,
   "id": "a034b430",
   "metadata": {},
   "outputs": [
    {
     "name": "stdout",
     "output_type": "stream",
     "text": [
      "1 2 3 8 "
     ]
    }
   ],
   "source": [
    "for c in itertools.filterfalse(lambda x: x <= 0, [0, 1, -1, 2, -2, 3, -10, 8]):\n",
    "    print(c, end=\" \")"
   ]
  },
  {
   "cell_type": "markdown",
   "id": "e1ebec19",
   "metadata": {},
   "source": [
    "**takewhile()** – This function takes a predicate and an iterable inputs as arguments and returns an iterator over inputs that stops at the first instance of an element for which the predicate returns `False`.\n",
    "\n",
    "**dropwhile()** – The dropwhile() function does the opposite of `takewhile()`. It returns an iterator beginning at the first element for which the predicate returns `False`."
   ]
  },
  {
   "cell_type": "code",
   "execution_count": 24,
   "id": "d20de51f",
   "metadata": {},
   "outputs": [
    {
     "name": "stdout",
     "output_type": "stream",
     "text": [
      "0 1 2 \n",
      "--------------------------------------------------------------------------------\n",
      "3 4 5 "
     ]
    }
   ],
   "source": [
    "for c in itertools.takewhile(lambda x: x < 3, [0, 1, 2, 3, 4, 5]):\n",
    "    print(c, end=\" \")\n",
    "print(\"\\n\",\"-\"*80, sep=\"\")\n",
    "for c in itertools.dropwhile(lambda x: x < 3, [0, 1, 2, 3, 4, 5]):\n",
    "    print(c, end=\" \")"
   ]
  },
  {
   "cell_type": "markdown",
   "id": "ab01ccfd",
   "metadata": {},
   "source": [
    "**groupby()** – This function takes an iterable inputs and a key to group by, and returns an iterator over tuples whose first components are keys and second components are iterators over the grouped data.\n",
    "\n",
    "**Note**: As `groupby()` traverses the data, it aggregates elements until an element with a different key is encountered, at which point it starts a new group. When working with `groupby()`, you need to sort your data on the same key that you would like to group by. "
   ]
  },
  {
   "cell_type": "code",
   "execution_count": 77,
   "id": "ad038390",
   "metadata": {},
   "outputs": [
    {
     "name": "stdout",
     "output_type": "stream",
     "text": [
      "34: [{'name': 'Alan', 'age': 34}, {'name': 'Marco', 'age': 34}]\n",
      "15: [{'name': 'Dylan', 'age': 15}]\n",
      "17: [{'name': 'Kevin', 'age': 17}]\n",
      "34: [{'name': 'Mathias', 'age': 34}]\n",
      "17: [{'name': 'Yohan', 'age': 17}]\n",
      "\n",
      "15: [{'name': 'Dylan', 'age': 15}]\n",
      "17: [{'name': 'Kevin', 'age': 17}, {'name': 'Yohan', 'age': 17}]\n",
      "34: [{'name': 'Alan', 'age': 34}, {'name': 'Marco', 'age': 34}, {'name': 'Mathias', 'age': 34}]\n"
     ]
    }
   ],
   "source": [
    "data = [{'name': 'Alan', 'age': 34},\n",
    "        {'name': 'Marco', 'age': 34},\n",
    "        {'name': 'Dylan', 'age': 15},\n",
    "        {'name': 'Kevin', 'age': 17},\n",
    "        {'name': 'Mathias', 'age': 34},\n",
    "        {'name': 'Yohan', 'age': 17}\n",
    "       ]\n",
    "\n",
    "for key, grp in itertools.groupby(data, key=lambda x: x['age']):\n",
    "    print(f'{key}: {list(grp)}')\n",
    "\n",
    "print()\n",
    "data=sorted(data, key = lambda x: x['age'])\n",
    "for key, grp in itertools.groupby(data, key=lambda x: x['age']):\n",
    "    print(f'{key}: {list(grp)}')"
   ]
  },
  {
   "cell_type": "code",
   "execution_count": null,
   "id": "3a045a93",
   "metadata": {},
   "outputs": [],
   "source": []
  }
 ],
 "metadata": {
  "kernelspec": {
   "display_name": "Python 3",
   "language": "python",
   "name": "python3"
  },
  "language_info": {
   "codemirror_mode": {
    "name": "ipython",
    "version": 3
   },
   "file_extension": ".py",
   "mimetype": "text/x-python",
   "name": "python",
   "nbconvert_exporter": "python",
   "pygments_lexer": "ipython3",
   "version": "3.8.8"
  }
 },
 "nbformat": 4,
 "nbformat_minor": 5
}
