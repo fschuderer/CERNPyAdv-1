{
 "cells": [
  {
   "cell_type": "markdown",
   "id": "occasional-casting",
   "metadata": {},
   "source": [
    "## Syntax of Lambda Function in python\n",
    "\n",
    "Simply put, a lambda function is just like any normal python function, except that it has no name when defining it, and its definition is limited to a single expression.\n",
    "\n",
    "`lambda arguments: expression`\n",
    "\n",
    "Lambda functions can have any number of arguments but only one `expression`. \n",
    "\n",
    "The `expression` is evaluated and returned. \n",
    "\n",
    "**Pros**\n",
    "- Lambdas can be used for simple logical operations that are easy to understand, they make the code more readable.\n",
    "- Lambdas can be used when you need a function that you will use just one time.\n",
    "- Using lambda function, you can define a function and call it immediately at the end of definition:\n",
    "`(lambda a: a**3)(3)`\n",
    "\n",
    "**Cons**\n",
    "- Lambdas can only perform one expression. It’s not possible to have multiple independent operations in one lambda function.\n",
    "- Lambdas cannot have a doc-string to explain all the inputs, operations, and outputs as you would in a normal def function.\n",
    "\n",
    "**Note**: Internally, both `lambda` and `def` functions works exactly the same (same bytecode)\n",
    "\n",
    "**Note**: Lambda functions accept all kinds of arguments, just like normal `def` function\n",
    "\n",
    "## Use of Lambda Function in python\n",
    "\n",
    "We use lambda functions when we require a nameless function for a short period of time.\n",
    "\n",
    "In Python, we generally use it as an argument to a ***higher-order function*** (a function that takes in other functions as arguments). \n",
    "\n",
    "Lambda functions are used along with built-in functions like **`filter()`**, **`map()`** **`reduce`**, ... etc.\n",
    "\n",
    "## Filter\n",
    "\n",
    "**`filter()`** is a builtin function that takes as argument a function and an iterable object and it returns only those values that fit certain criteria. \n",
    "\n",
    "The syntax is:\n",
    "\n",
    "`filter(function, iterable)` \n",
    "\n",
    "The `function` is called with all the items in the `iterable` and the elements for which the function evaluates to `True` are returned (filter is act as a generator).\n",
    "\n",
    "Here is how we can extract out of a tuple of numbers the even numbers using a lambda function.\n"
   ]
  },
  {
   "cell_type": "code",
   "execution_count": 3,
   "id": "passing-china",
   "metadata": {},
   "outputs": [
    {
     "data": {
      "text/plain": [
       "[2, 6, 12, 78, 10]"
      ]
     },
     "execution_count": 3,
     "metadata": {},
     "output_type": "execute_result"
    }
   ],
   "source": [
    "data=(2,6,12,23,-5,78,-1,10)\n",
    "result=list(filter(lambda x: x%2 == 0, data))\n",
    "result"
   ]
  },
  {
   "cell_type": "markdown",
   "id": "greenhouse-variance",
   "metadata": {},
   "source": [
    "## Map\n",
    "\n",
    "**`map()`** is a builtin function that takes as argument a function and one or more iterable objects. The function is called with all the items in the iterable and `map()` returns the value returned by that function. \n",
    "\n",
    "The syntax is:\n",
    "\n",
    "`map(function, iterable)` \n",
    "\n",
    "Here is how we can raise to the power 3 the items stored in a tuple of numbers.\n"
   ]
  },
  {
   "cell_type": "code",
   "execution_count": 4,
   "id": "ignored-election",
   "metadata": {},
   "outputs": [
    {
     "data": {
      "text/plain": [
       "[8, 216, 1728, 12167, -125, 474552, -1, 1000]"
      ]
     },
     "execution_count": 4,
     "metadata": {},
     "output_type": "execute_result"
    }
   ],
   "source": [
    "data=(2,6,12,23,-5,78,-1,10)\n",
    "result=list(map(lambda x: x**3, data))\n",
    "result"
   ]
  },
  {
   "cell_type": "markdown",
   "id": "funded-commander",
   "metadata": {},
   "source": [
    "Here is how we can add by pair by pair two tuple of numbers.\n"
   ]
  },
  {
   "cell_type": "code",
   "execution_count": 8,
   "id": "smoking-routine",
   "metadata": {},
   "outputs": [
    {
     "data": {
      "text/plain": [
       "[4, 8, 22, 26, 1, 85, 9, 30]"
      ]
     },
     "execution_count": 8,
     "metadata": {},
     "output_type": "execute_result"
    }
   ],
   "source": [
    "data1=(2,6,12,23,-5,78,-1,10)\n",
    "data2=(2,2,10,3,6,7, 10,20)\n",
    "result=list(map(lambda x,y: x+y, data1, data2))\n",
    "result\n"
   ]
  },
  {
   "cell_type": "markdown",
   "id": "impaired-million",
   "metadata": {},
   "source": [
    "## Reduce\n",
    "\n",
    "The **`reduce()`** function is defined in the module **`functools`**.\n",
    "\n",
    "This function implements a mathematical technique commonly known as folding or reduction: you’re doing a fold or reduction when you reduce a list of items to a single cumulative value. \n",
    "\n",
    "The syntax is:\n",
    "\n",
    "`reduce(function, iterable)`\n",
    "\n",
    "`reduce()`  works by applying a two-argument function to the items of `iterable` in a loop from left to right, ultimately reducing iterable to a single cumulative value.\n",
    "\n",
    "Here is how we sum the different elemnts stored in a tuple of numbers.\n"
   ]
  },
  {
   "cell_type": "code",
   "execution_count": 11,
   "id": "breeding-accessory",
   "metadata": {},
   "outputs": [
    {
     "data": {
      "text/plain": [
       "2"
      ]
     },
     "execution_count": 11,
     "metadata": {},
     "output_type": "execute_result"
    }
   ],
   "source": [
    "import functools\n",
    "\n",
    "data=(2,6,12,23,-5,78,-1,10)\n",
    "result=functools.reduce(lambda x,y: x+y, data)\n",
    "result"
   ]
  },
  {
   "cell_type": "markdown",
   "id": "resident-mystery",
   "metadata": {},
   "source": [
    "À third argument , called `initializer`, can optionally be provided to `reduce()`. \n",
    "\n",
    "If you supply a value to initializer, then `reduce()` will feed it to the first call of function as its first argument.\n",
    "\n",
    "This means that the first call to function will use the value of initializer and the first item of iterable to perform its first partial computation. \n",
    "\n",
    "After this, `reduce()` continues working with the subsequent items of iterable."
   ]
  },
  {
   "cell_type": "code",
   "execution_count": 21,
   "id": "imperial-homework",
   "metadata": {},
   "outputs": [
    {
     "data": {
      "text/plain": [
       "0"
      ]
     },
     "execution_count": 21,
     "metadata": {},
     "output_type": "execute_result"
    }
   ],
   "source": [
    "import functools\n",
    "\n",
    "data=[]\n",
    "result=functools.reduce(lambda x,y: x+y, data, 0)\n",
    "result"
   ]
  },
  {
   "cell_type": "markdown",
   "id": "27163daa",
   "metadata": {},
   "source": [
    "### Python IIFE\n",
    "\n",
    "A lambda can be used to create a Immediately Invoked Function Expression, but this kind of expression is not very often used in Python:"
   ]
  },
  {
   "cell_type": "code",
   "execution_count": 1,
   "id": "married-thesis",
   "metadata": {},
   "outputs": [
    {
     "data": {
      "text/plain": [
       "27"
      ]
     },
     "execution_count": 1,
     "metadata": {},
     "output_type": "execute_result"
    }
   ],
   "source": [
    "(lambda a: a**3)(3)"
   ]
  },
  {
   "cell_type": "code",
   "execution_count": null,
   "id": "inclusive-radical",
   "metadata": {},
   "outputs": [],
   "source": []
  }
 ],
 "metadata": {
  "kernelspec": {
   "display_name": "Python 3",
   "language": "python",
   "name": "python3"
  },
  "language_info": {
   "codemirror_mode": {
    "name": "ipython",
    "version": 3
   },
   "file_extension": ".py",
   "mimetype": "text/x-python",
   "name": "python",
   "nbconvert_exporter": "python",
   "pygments_lexer": "ipython3",
   "version": "3.8.8"
  }
 },
 "nbformat": 4,
 "nbformat_minor": 5
}
