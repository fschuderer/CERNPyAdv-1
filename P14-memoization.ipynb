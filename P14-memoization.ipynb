{
 "cells": [
  {
   "cell_type": "markdown",
   "id": "spectacular-weekend",
   "metadata": {},
   "source": [
    "# Memoization\n",
    "\n",
    "## A definition\n",
    "\n",
    "Basically, **memoization** consists of saving the results of past operations done with recursive algorithms in order to reduce the need to traverse the recursion tree if the same calculation is required at a later stage.\n",
    "\n",
    "This results in a significant speed up in calculations.\n",
    "\n",
    "## Without memoization\n",
    "\n",
    "Let’s define a recursive function that we can use to display the first elemnts of a Fibonacci sequence.\n",
    "\n",
    "A Fibonacci sequence is the integer sequence of 0, 1, 1, 2, 3, 5, 8....\n",
    "\n",
    "The first two terms are 0 and 1. \n",
    "\n",
    "All other terms are obtained by adding the preceding two terms.\n",
    "\n",
    "nth term = (n-1)th term + (n-2)th term\n",
    "\n",
    "A recursive function `fibo()` is used to calculate the nth term of the sequence. We use a for loop to iterate and calculate each term recursively."
   ]
  },
  {
   "cell_type": "code",
   "execution_count": 29,
   "id": "initial-thing",
   "metadata": {},
   "outputs": [
    {
     "name": "stdout",
     "output_type": "stream",
     "text": [
      "0 1 1 2 3 5 8 13 21 34 55 89 144 233 377 610 987 1597 2584 4181 "
     ]
    }
   ],
   "source": [
    "def fibo(n):\n",
    "    if n <= 1:\n",
    "        return n\n",
    "    else:\n",
    "        return fibo(n-1)+fibo(n-2)\n",
    "    \n",
    "for i in range(20):\n",
    "    print(fibo(i), end=\" \")"
   ]
  },
  {
   "cell_type": "markdown",
   "id": "unique-vampire",
   "metadata": {},
   "source": [
    "It works, but if you try displaying the first 2000 terms, you will, after a quite long time, get the following error:\n",
    "\n",
    "`RecursionError: maximum recursion depth exceeded`\n",
    "\n",
    "This is a python guard against stack overflow (running out of memory).\n",
    "\n",
    "You can retrieve the max recursion depth this way: "
   ]
  },
  {
   "cell_type": "code",
   "execution_count": 7,
   "id": "sitting-somerset",
   "metadata": {},
   "outputs": [
    {
     "name": "stdout",
     "output_type": "stream",
     "text": [
      "3000\n"
     ]
    }
   ],
   "source": [
    "import sys\n",
    "sys.getrecursionlimit()"
   ]
  },
  {
   "cell_type": "markdown",
   "id": "metallic-roman",
   "metadata": {},
   "source": [
    "and change the recursion limit with:"
   ]
  },
  {
   "cell_type": "code",
   "execution_count": 8,
   "id": "bound-dubai",
   "metadata": {},
   "outputs": [
    {
     "ename": "TypeError",
     "evalue": "'int' object is not callable",
     "output_type": "error",
     "traceback": [
      "\u001b[1;31m---------------------------------------------------------------------------\u001b[0m",
      "\u001b[1;31mTypeError\u001b[0m                                 Traceback (most recent call last)",
      "\u001b[1;32m<ipython-input-8-983b2de6b4a6>\u001b[0m in \u001b[0;36m<module>\u001b[1;34m\u001b[0m\n\u001b[1;32m----> 1\u001b[1;33m \u001b[0msys\u001b[0m\u001b[1;33m.\u001b[0m\u001b[0msetrecursionlimit\u001b[0m\u001b[1;33m(\u001b[0m\u001b[1;36m500\u001b[0m\u001b[1;33m)\u001b[0m\u001b[1;33m\u001b[0m\u001b[1;33m\u001b[0m\u001b[0m\n\u001b[0m\u001b[0;32m      2\u001b[0m \u001b[1;33m\u001b[0m\u001b[0m\n\u001b[0;32m      3\u001b[0m \u001b[0mprint\u001b[0m\u001b[1;33m(\u001b[0m\u001b[0msys\u001b[0m\u001b[1;33m.\u001b[0m\u001b[0mgetrecursionlimit\u001b[0m\u001b[1;33m(\u001b[0m\u001b[1;33m)\u001b[0m\u001b[1;33m)\u001b[0m\u001b[1;33m\u001b[0m\u001b[1;33m\u001b[0m\u001b[0m\n",
      "\u001b[1;31mTypeError\u001b[0m: 'int' object is not callable"
     ]
    }
   ],
   "source": [
    "sys.setrecursionlimit(500)  \n",
    "sys.getrecursionlimit()"
   ]
  },
  {
   "cell_type": "markdown",
   "id": "vital-fountain",
   "metadata": {},
   "source": [
    "Consider how the recursive function is calculating each term:\n",
    "\n",
    "`fibo(0) = 1,\n",
    "fibo(1) = 1,\n",
    "fibo(2) = fibo(1)+fibo(0)\n",
    "fibo(3) = fibo(2)+fibo(1)\n",
    "fibo(4) = fibo(3)+fibo(2)\n",
    "...\n",
    "`\n",
    "\n",
    "Notice, for `fibo(4)` we are repeating the calculation of `fibo(3)` and `fibo(2)`, etc ...\n",
    "\n",
    "If we had a way of remembering/storing those values upon calculating them, we’d avoid repeating calculations. This forms the motivation for the **memoization** technique.\n",
    "\n",
    "## With memoization\n",
    "\n",
    "In the following version of the function, we check if the input value is in a list (initially empty), if it is not, we store the fibonacci value in the list and return the value for the input argument:\n"
   ]
  },
  {
   "cell_type": "code",
   "execution_count": 13,
   "id": "unknown-reform",
   "metadata": {},
   "outputs": [
    {
     "name": "stdout",
     "output_type": "stream",
     "text": [
      "0 1 1 2 3 5 8 13 21 34 55 89 144 233 377 610 987 1597 2584 4181 "
     ]
    }
   ],
   "source": [
    "v=[0,1]\n",
    "\n",
    "def fibo_cache_v1(n):\n",
    "    if n <= 1:\n",
    "        return n\n",
    "    else:\n",
    "        if len(v)<= n:\n",
    "            v.append(fibo_cache_v1(n-1)+fibo_cache_v1(n-2))\n",
    "        return v[n]\n",
    "    \n",
    "for i in range(20):\n",
    "    print(fibo_cache_v1(i), end=\" \")"
   ]
  },
  {
   "cell_type": "markdown",
   "id": "social-thanksgiving",
   "metadata": {},
   "source": [
    "This version will have no problem to display the first 2000 terms this time\n",
    "\n",
    "## lru_cache() and cache() decorators\n",
    "\n",
    "A simpler way to implement memoization is to use the **functools.lru_cache** decorator.\n",
    "\n",
    "This decorator allows us to cache our values. The name stands for \"least recently used cache\".\n",
    "`functools.lru_cache`, by default, only caches the 128 most recently used calls, but you can set the `maxsize` to `None` to indicate that the cache should never expire.\n",
    "\n",
    "**Note**: **functools.cache** was newly added in version 3.9, it returns the same as `lru_cache(maxsize=None)`\n"
   ]
  },
  {
   "cell_type": "code",
   "execution_count": 12,
   "id": "competitive-realtor",
   "metadata": {},
   "outputs": [
    {
     "name": "stdout",
     "output_type": "stream",
     "text": [
      "0 1 1 2 3 5 8 13 21 34 55 89 144 233 377 610 987 1597 2584 4181 "
     ]
    }
   ],
   "source": [
    "from functools import lru_cache\n",
    "\n",
    "@lru_cache(maxsize=1000)\n",
    "def fibo_cache_v2(n):\n",
    "    if n <= 1:\n",
    "        return n\n",
    "    else:\n",
    "        return fibo_cache_v2(n-1)+fibo_cache_v2(n-2)\n",
    "    \n",
    "for i in range(20):\n",
    "    print(fibo_cache_v2(i), end=\" \")\n"
   ]
  }
 ],
 "metadata": {
  "kernelspec": {
   "display_name": "Python 3",
   "language": "python",
   "name": "python3"
  },
  "language_info": {
   "codemirror_mode": {
    "name": "ipython",
    "version": 3
   },
   "file_extension": ".py",
   "mimetype": "text/x-python",
   "name": "python",
   "nbconvert_exporter": "python",
   "pygments_lexer": "ipython3",
   "version": "3.8.8"
  }
 },
 "nbformat": 4,
 "nbformat_minor": 5
}
